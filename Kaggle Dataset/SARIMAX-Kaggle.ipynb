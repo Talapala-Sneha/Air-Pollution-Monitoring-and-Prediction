{
 "cells": [
  {
   "cell_type": "code",
   "execution_count": 11,
   "metadata": {},
   "outputs": [],
   "source": [
    "from pandas import concat,DataFrame\n",
    "import numpy as np \n",
    "import pandas as pd\n"
   ]
  },
  {
   "cell_type": "code",
   "execution_count": 12,
   "metadata": {},
   "outputs": [
    {
     "data": {
      "text/html": [
       "<div>\n",
       "<style scoped>\n",
       "    .dataframe tbody tr th:only-of-type {\n",
       "        vertical-align: middle;\n",
       "    }\n",
       "\n",
       "    .dataframe tbody tr th {\n",
       "        vertical-align: top;\n",
       "    }\n",
       "\n",
       "    .dataframe thead th {\n",
       "        text-align: right;\n",
       "    }\n",
       "</style>\n",
       "<table border=\"1\" class=\"dataframe\">\n",
       "  <thead>\n",
       "    <tr style=\"text-align: right;\">\n",
       "      <th></th>\n",
       "      <th>Datetime</th>\n",
       "      <th>PM2.5</th>\n",
       "      <th>NO2</th>\n",
       "      <th>NH3</th>\n",
       "      <th>CO</th>\n",
       "      <th>O3</th>\n",
       "      <th>AQI</th>\n",
       "    </tr>\n",
       "  </thead>\n",
       "  <tbody>\n",
       "    <tr>\n",
       "      <th>187751</th>\n",
       "      <td>2015-01-01 01:00:00</td>\n",
       "      <td>NaN</td>\n",
       "      <td>47.97</td>\n",
       "      <td>6.36</td>\n",
       "      <td>0.92</td>\n",
       "      <td>7.65</td>\n",
       "      <td>NaN</td>\n",
       "    </tr>\n",
       "    <tr>\n",
       "      <th>187752</th>\n",
       "      <td>2015-01-01 02:00:00</td>\n",
       "      <td>NaN</td>\n",
       "      <td>12.31</td>\n",
       "      <td>4.93</td>\n",
       "      <td>0.77</td>\n",
       "      <td>10.96</td>\n",
       "      <td>NaN</td>\n",
       "    </tr>\n",
       "    <tr>\n",
       "      <th>187753</th>\n",
       "      <td>2015-01-01 03:00:00</td>\n",
       "      <td>NaN</td>\n",
       "      <td>13.72</td>\n",
       "      <td>3.92</td>\n",
       "      <td>1.06</td>\n",
       "      <td>12.14</td>\n",
       "      <td>NaN</td>\n",
       "    </tr>\n",
       "    <tr>\n",
       "      <th>187754</th>\n",
       "      <td>2015-01-01 04:00:00</td>\n",
       "      <td>NaN</td>\n",
       "      <td>14.45</td>\n",
       "      <td>4.54</td>\n",
       "      <td>1.54</td>\n",
       "      <td>11.95</td>\n",
       "      <td>NaN</td>\n",
       "    </tr>\n",
       "    <tr>\n",
       "      <th>187755</th>\n",
       "      <td>2015-01-01 05:00:00</td>\n",
       "      <td>NaN</td>\n",
       "      <td>20.16</td>\n",
       "      <td>4.85</td>\n",
       "      <td>1.03</td>\n",
       "      <td>11.64</td>\n",
       "      <td>NaN</td>\n",
       "    </tr>\n",
       "  </tbody>\n",
       "</table>\n",
       "</div>"
      ],
      "text/plain": [
       "                   Datetime  PM2.5    NO2   NH3    CO     O3  AQI\n",
       "187751  2015-01-01 01:00:00    NaN  47.97  6.36  0.92   7.65  NaN\n",
       "187752  2015-01-01 02:00:00    NaN  12.31  4.93  0.77  10.96  NaN\n",
       "187753  2015-01-01 03:00:00    NaN  13.72  3.92  1.06  12.14  NaN\n",
       "187754  2015-01-01 04:00:00    NaN  14.45  4.54  1.54  11.95  NaN\n",
       "187755  2015-01-01 05:00:00    NaN  20.16  4.85  1.03  11.64  NaN"
      ]
     },
     "execution_count": 12,
     "metadata": {},
     "output_type": "execute_result"
    }
   ],
   "source": [
    "df = pd.read_csv(\"city_hour.csv\") \n",
    "df=df[df['City']=='Chennai']\n",
    "df.drop(columns=['City','NOx','PM10','SO2','NO','AQI_Bucket','Benzene','Toluene','Xylene'],axis=1,inplace=True)\n",
    "df.head(5)\n"
   ]
  },
  {
   "cell_type": "code",
   "execution_count": 13,
   "metadata": {},
   "outputs": [
    {
     "data": {
      "text/html": [
       "<div>\n",
       "<style scoped>\n",
       "    .dataframe tbody tr th:only-of-type {\n",
       "        vertical-align: middle;\n",
       "    }\n",
       "\n",
       "    .dataframe tbody tr th {\n",
       "        vertical-align: top;\n",
       "    }\n",
       "\n",
       "    .dataframe thead th {\n",
       "        text-align: right;\n",
       "    }\n",
       "</style>\n",
       "<table border=\"1\" class=\"dataframe\">\n",
       "  <thead>\n",
       "    <tr style=\"text-align: right;\">\n",
       "      <th></th>\n",
       "      <th>Datetime</th>\n",
       "      <th>PM2.5</th>\n",
       "      <th>NO2</th>\n",
       "      <th>NH3</th>\n",
       "      <th>CO</th>\n",
       "      <th>O3</th>\n",
       "      <th>AQI</th>\n",
       "    </tr>\n",
       "  </thead>\n",
       "  <tbody>\n",
       "    <tr>\n",
       "      <th>187751</th>\n",
       "      <td>2015-01-01 01:00:00</td>\n",
       "      <td>428.3</td>\n",
       "      <td>47.97</td>\n",
       "      <td>6.36</td>\n",
       "      <td>0.92</td>\n",
       "      <td>7.65</td>\n",
       "      <td>333.0</td>\n",
       "    </tr>\n",
       "    <tr>\n",
       "      <th>187752</th>\n",
       "      <td>2015-01-01 02:00:00</td>\n",
       "      <td>428.3</td>\n",
       "      <td>12.31</td>\n",
       "      <td>4.93</td>\n",
       "      <td>0.77</td>\n",
       "      <td>10.96</td>\n",
       "      <td>333.0</td>\n",
       "    </tr>\n",
       "    <tr>\n",
       "      <th>187753</th>\n",
       "      <td>2015-01-01 03:00:00</td>\n",
       "      <td>428.3</td>\n",
       "      <td>13.72</td>\n",
       "      <td>3.92</td>\n",
       "      <td>1.06</td>\n",
       "      <td>12.14</td>\n",
       "      <td>333.0</td>\n",
       "    </tr>\n",
       "    <tr>\n",
       "      <th>187754</th>\n",
       "      <td>2015-01-01 04:00:00</td>\n",
       "      <td>428.3</td>\n",
       "      <td>14.45</td>\n",
       "      <td>4.54</td>\n",
       "      <td>1.54</td>\n",
       "      <td>11.95</td>\n",
       "      <td>333.0</td>\n",
       "    </tr>\n",
       "    <tr>\n",
       "      <th>187755</th>\n",
       "      <td>2015-01-01 05:00:00</td>\n",
       "      <td>428.3</td>\n",
       "      <td>20.16</td>\n",
       "      <td>4.85</td>\n",
       "      <td>1.03</td>\n",
       "      <td>11.64</td>\n",
       "      <td>333.0</td>\n",
       "    </tr>\n",
       "  </tbody>\n",
       "</table>\n",
       "</div>"
      ],
      "text/plain": [
       "                   Datetime  PM2.5    NO2   NH3    CO     O3    AQI\n",
       "187751  2015-01-01 01:00:00  428.3  47.97  6.36  0.92   7.65  333.0\n",
       "187752  2015-01-01 02:00:00  428.3  12.31  4.93  0.77  10.96  333.0\n",
       "187753  2015-01-01 03:00:00  428.3  13.72  3.92  1.06  12.14  333.0\n",
       "187754  2015-01-01 04:00:00  428.3  14.45  4.54  1.54  11.95  333.0\n",
       "187755  2015-01-01 05:00:00  428.3  20.16  4.85  1.03  11.64  333.0"
      ]
     },
     "execution_count": 13,
     "metadata": {},
     "output_type": "execute_result"
    }
   ],
   "source": [
    "df.interpolate(limit_direction=\"both\",inplace=True)\n",
    "df.head(5)"
   ]
  },
  {
   "cell_type": "code",
   "execution_count": 6,
   "metadata": {},
   "outputs": [],
   "source": [
    "e = pd.DataFrame(df[['PM2.5','NO2','NH3','O3','CO']].values)"
   ]
  },
  {
   "cell_type": "code",
   "execution_count": 7,
   "metadata": {},
   "outputs": [
    {
     "name": "stderr",
     "output_type": "stream",
     "text": [
      "C:\\Users\\ssneh\\anaconda3\\lib\\site-packages\\statsmodels\\base\\model.py:568: ConvergenceWarning: Maximum Likelihood optimization failed to converge. Check mle_retvals\n",
      "  \"Check mle_retvals\", ConvergenceWarning)\n"
     ]
    }
   ],
   "source": [
    "from statsmodels.tsa.statespace.sarimax import SARIMAX\n",
    "\n",
    "model = SARIMAX(list(df['AQI']),exog=e,order=(1,0,1),seasonal_order=(0,0,0,24),enf48orce_invertibility=False)\n",
    "results = model.fit()"
   ]
  },
  {
   "cell_type": "code",
   "execution_count": 8,
   "metadata": {},
   "outputs": [],
   "source": [
    "exog_forecast = e[48187:].values\n",
    "fcast = results.predict(len(df),len(df)+4,exog=exog_forecast)"
   ]
  },
  {
   "cell_type": "code",
   "execution_count": 9,
   "metadata": {},
   "outputs": [
    {
     "name": "stdout",
     "output_type": "stream",
     "text": [
      "Forecasted AQI:\n",
      "[91.67701061 91.47296418 90.85415775 90.67062211 89.84753767]\n"
     ]
    }
   ],
   "source": [
    "y = fcast.values\n",
    "y = y.ravel()\n",
    "print(\"Forecasted AQI:\")\n",
    "print(y)"
   ]
  },
  {
   "cell_type": "code",
   "execution_count": 10,
   "metadata": {},
   "outputs": [
    {
     "name": "stdout",
     "output_type": "stream",
     "text": [
      "RMSE:\n",
      "2.147246125339176\n"
     ]
    }
   ],
   "source": [
    "from sklearn.metrics import mean_squared_error\n",
    "from math import sqrt\n",
    "\n",
    "df1=df['AQI']\n",
    "actual_values=df1[-5:]\n",
    "#calculate RMSE\n",
    "r = sqrt(mean_squared_error(actual_values, y)) \n",
    "print(\"RMSE:\")\n",
    "print(r)"
   ]
  }
 ],
 "metadata": {
  "kernelspec": {
   "display_name": "Python 3",
   "language": "python",
   "name": "python3"
  },
  "language_info": {
   "codemirror_mode": {
    "name": "ipython",
    "version": 3
   },
   "file_extension": ".py",
   "mimetype": "text/x-python",
   "name": "python",
   "nbconvert_exporter": "python",
   "pygments_lexer": "ipython3",
   "version": "3.7.3"
  }
 },
 "nbformat": 4,
 "nbformat_minor": 4
}
