{
 "cells": [
  {
   "cell_type": "code",
   "execution_count": 5,
   "metadata": {},
   "outputs": [
    {
     "name": "stdout",
     "output_type": "stream",
     "text": [
      "48961\n",
      "4.328071613272257\n"
     ]
    }
   ],
   "source": [
    "from pandas import concat,DataFrame\n",
    "import numpy as np \n",
    "import pandas as pd\n",
    "df = pd.read_csv(\"city_hour.csv\") \n",
    "df=df[df['City']=='Chennai']\n",
    "df.drop(columns=['City','NOx','PM10','SO2','NO','AQI_Bucket','Benzene','Toluene','Xylene'],axis=1,inplace=True)\n",
    "df.interpolate(limit_direction=\"both\",inplace=True)\n",
    "\n",
    "df_train=pd.read_csv(\"Sensor_Training_Data.csv\")\n",
    "df_train.interpolate(limit_direction=\"both\",inplace=True)\n",
    "\n",
    "df = df.append(df_train,ignore_index=True)\n",
    "print(len(df))\n",
    "\n",
    "df_test=pd.read_csv(\"Sensor_Testing_Data.csv\")\n",
    "df_test.columns=['Datetime','PM2.5','NO2','NH3','CO','O3','AQI']\n",
    "df_test.interpolate(limit_direction=\"both\",inplace=True)\n",
    "df_test.head()\n",
    "\n",
    "aqi_list=df['AQI'].to_list()\n",
    "aqi_list_test=df_test['AQI'].to_list()\n",
    "def series_to_supervised(data, n_in, n_out):\n",
    "\tn_vars = 1 if type(data) is list else data.shape[1]\n",
    "\tdf = DataFrame(data)\n",
    "\tcols, names = list(), list()\n",
    "\t# input sequence (t-n, ... t-1)\n",
    "\tfor i in range(n_in, 0, -1):\n",
    "\t\tcols.append(df.shift(i))\n",
    "\t\tnames += [('AQI(t-%d)' % (i)) for j in range(n_vars)]\n",
    "\t# forecast sequence (t, t+1, ... t+n)\n",
    "\tfor i in range(1, n_out):\n",
    "\t\tcols.append(df.shift(-i))\n",
    "\t\tnames += [('AQI(t+%d)' % (i)) for j in range(n_vars)]\n",
    "\t# put it all together\n",
    "\tagg = concat(cols, axis=1)\n",
    "\tagg.columns = names\n",
    "\treturn agg\n",
    "\n",
    "df1= series_to_supervised(aqi_list, 4, 6)\n",
    "\n",
    "df1_test= series_to_supervised(aqi_list_test, 4, 6)\n",
    "df2 = pd.concat([df.reset_index(drop=True),df1.reset_index(drop=True)], axis=1)\n",
    "df2_test = pd.concat([df_test.reset_index(drop=True),df1_test.reset_index(drop=True)], axis=1)\n",
    "actual_values=[aqi_list_test[-5:]]\n",
    "dropnan=True\n",
    "if dropnan:\n",
    "\tdf2.dropna(inplace=True)\n",
    "df2_test['CO'] = df2_test['CO'].fillna(0)\n",
    "df2_test['NO2'] = df2_test['NO2'].fillna(0)\n",
    "df2_test['NH3'] = df2_test['NH3'].fillna(0)\n",
    "dropnan=True\n",
    "if dropnan:\n",
    "\tdf2_test.dropna(inplace=True)\n",
    "X_train=np.array(df2[['PM2.5','NO2','NH3','CO','O3','AQI','AQI(t-4)','AQI(t-3)','AQI(t-2)','AQI(t-1)']])\n",
    "y_train=np.array(df2[['AQI(t+1)','AQI(t+2)','AQI(t+3)','AQI(t+4)','AQI(t+5)']])\n",
    "\n",
    "X_test=np.array(df2_test[['PM2.5','NO2','NH3','CO','O3','AQI','AQI(t-4)','AQI(t-3)','AQI(t-2)','AQI(t-1)']])\n",
    "y_test=np.array(df2_test[['AQI(t+1)','AQI(t+2)','AQI(t+3)','AQI(t+4)','AQI(t+5)']])\n",
    "\n",
    "from sklearn.multioutput import MultiOutputRegressor\n",
    "from sklearn.metrics import mean_squared_error\n",
    "from math import sqrt\n",
    "rows,cols=X_test.shape\n",
    "\n",
    "from sklearn.ensemble import GradientBoostingRegressor\n",
    "\n",
    "lin_reg=MultiOutputRegressor(GradientBoostingRegressor(n_estimators=21,max_depth=31)).fit(X_train, y_train)\n",
    "y_pred=lin_reg.predict(X_test)\n",
    "pred=[y_pred[rows-1]]\n",
    "rmse = sqrt(mean_squared_error(pred,actual_values))\n",
    "print(rmse)\n"
   ]
  },
  {
   "cell_type": "code",
   "execution_count": 6,
   "metadata": {},
   "outputs": [
    {
     "name": "stdout",
     "output_type": "stream",
     "text": [
      "Forecasted AQI:\n",
      "[array([114.72863646, 116.462546  , 123.3192264 , 113.43040208,\n",
      "       113.48305692])]\n"
     ]
    }
   ],
   "source": [
    "print(\"Forecasted AQI:\")\n",
    "print(pred)"
   ]
  },
  {
   "cell_type": "code",
   "execution_count": 7,
   "metadata": {},
   "outputs": [
    {
     "name": "stdout",
     "output_type": "stream",
     "text": [
      "RMSE:\n",
      "4.328071613272257\n"
     ]
    }
   ],
   "source": [
    "print(\"RMSE:\")\n",
    "print(rmse)"
   ]
  }
 ],
 "metadata": {
  "kernelspec": {
   "display_name": "Python 3",
   "language": "python",
   "name": "python3"
  },
  "language_info": {
   "codemirror_mode": {
    "name": "ipython",
    "version": 3
   },
   "file_extension": ".py",
   "mimetype": "text/x-python",
   "name": "python",
   "nbconvert_exporter": "python",
   "pygments_lexer": "ipython3",
   "version": "3.7.3"
  }
 },
 "nbformat": 4,
 "nbformat_minor": 4
}
