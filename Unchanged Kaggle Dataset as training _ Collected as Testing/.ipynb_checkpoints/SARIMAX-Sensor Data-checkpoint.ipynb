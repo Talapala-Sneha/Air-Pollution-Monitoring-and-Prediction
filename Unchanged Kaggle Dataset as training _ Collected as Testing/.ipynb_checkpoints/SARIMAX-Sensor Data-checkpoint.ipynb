{
 "cells": [
  {
   "cell_type": "code",
   "execution_count": 49,
   "metadata": {},
   "outputs": [],
   "source": [
    "import math\n",
    "import numpy as np\n",
    "import pandas as pd"
   ]
  },
  {
   "cell_type": "code",
   "execution_count": 50,
   "metadata": {},
   "outputs": [
    {
     "data": {
      "text/html": [
       "<div>\n",
       "<style scoped>\n",
       "    .dataframe tbody tr th:only-of-type {\n",
       "        vertical-align: middle;\n",
       "    }\n",
       "\n",
       "    .dataframe tbody tr th {\n",
       "        vertical-align: top;\n",
       "    }\n",
       "\n",
       "    .dataframe thead th {\n",
       "        text-align: right;\n",
       "    }\n",
       "</style>\n",
       "<table border=\"1\" class=\"dataframe\">\n",
       "  <thead>\n",
       "    <tr style=\"text-align: right;\">\n",
       "      <th></th>\n",
       "      <th>Datetime</th>\n",
       "      <th>PM2.5</th>\n",
       "      <th>NO2</th>\n",
       "      <th>NH3</th>\n",
       "      <th>CO</th>\n",
       "      <th>O3</th>\n",
       "      <th>AQI</th>\n",
       "    </tr>\n",
       "  </thead>\n",
       "  <tbody>\n",
       "    <tr>\n",
       "      <th>0</th>\n",
       "      <td>2021-01-17 10:00:00</td>\n",
       "      <td>45.31</td>\n",
       "      <td>NaN</td>\n",
       "      <td>NaN</td>\n",
       "      <td>NaN</td>\n",
       "      <td>3.04</td>\n",
       "      <td>90.0</td>\n",
       "    </tr>\n",
       "    <tr>\n",
       "      <th>1</th>\n",
       "      <td>2021-01-17 11:00:00</td>\n",
       "      <td>44.60</td>\n",
       "      <td>NaN</td>\n",
       "      <td>NaN</td>\n",
       "      <td>NaN</td>\n",
       "      <td>7.21</td>\n",
       "      <td>87.0</td>\n",
       "    </tr>\n",
       "    <tr>\n",
       "      <th>2</th>\n",
       "      <td>2021-01-17 12:00:00</td>\n",
       "      <td>39.12</td>\n",
       "      <td>NaN</td>\n",
       "      <td>NaN</td>\n",
       "      <td>NaN</td>\n",
       "      <td>14.03</td>\n",
       "      <td>77.0</td>\n",
       "    </tr>\n",
       "    <tr>\n",
       "      <th>3</th>\n",
       "      <td>2021-01-17 13:00:00</td>\n",
       "      <td>35.20</td>\n",
       "      <td>NaN</td>\n",
       "      <td>NaN</td>\n",
       "      <td>NaN</td>\n",
       "      <td>20.43</td>\n",
       "      <td>69.0</td>\n",
       "    </tr>\n",
       "    <tr>\n",
       "      <th>4</th>\n",
       "      <td>2021-01-17 14:00:00</td>\n",
       "      <td>32.67</td>\n",
       "      <td>NaN</td>\n",
       "      <td>NaN</td>\n",
       "      <td>NaN</td>\n",
       "      <td>21.31</td>\n",
       "      <td>65.0</td>\n",
       "    </tr>\n",
       "  </tbody>\n",
       "</table>\n",
       "</div>"
      ],
      "text/plain": [
       "              Datetime  PM2.5  NO2  NH3  CO     O3   AQI\n",
       "0  2021-01-17 10:00:00  45.31  NaN  NaN NaN   3.04  90.0\n",
       "1  2021-01-17 11:00:00  44.60  NaN  NaN NaN   7.21  87.0\n",
       "2  2021-01-17 12:00:00  39.12  NaN  NaN NaN  14.03  77.0\n",
       "3  2021-01-17 13:00:00  35.20  NaN  NaN NaN  20.43  69.0\n",
       "4  2021-01-17 14:00:00  32.67  NaN  NaN NaN  21.31  65.0"
      ]
     },
     "execution_count": 50,
     "metadata": {},
     "output_type": "execute_result"
    }
   ],
   "source": [
    "data2 = 'sarimaxdataset.csv'\n",
    "dataset2 = pd.read_csv(data2)\n",
    "dataset2.head(5)"
   ]
  },
  {
   "cell_type": "code",
   "execution_count": 51,
   "metadata": {},
   "outputs": [
    {
     "data": {
      "text/html": [
       "<div>\n",
       "<style scoped>\n",
       "    .dataframe tbody tr th:only-of-type {\n",
       "        vertical-align: middle;\n",
       "    }\n",
       "\n",
       "    .dataframe tbody tr th {\n",
       "        vertical-align: top;\n",
       "    }\n",
       "\n",
       "    .dataframe thead th {\n",
       "        text-align: right;\n",
       "    }\n",
       "</style>\n",
       "<table border=\"1\" class=\"dataframe\">\n",
       "  <thead>\n",
       "    <tr style=\"text-align: right;\">\n",
       "      <th></th>\n",
       "      <th>Datetime</th>\n",
       "      <th>PM2.5</th>\n",
       "      <th>NO2</th>\n",
       "      <th>NH3</th>\n",
       "      <th>CO</th>\n",
       "      <th>O3</th>\n",
       "      <th>AQI</th>\n",
       "    </tr>\n",
       "  </thead>\n",
       "  <tbody>\n",
       "    <tr>\n",
       "      <th>0</th>\n",
       "      <td>2021-01-17 10:00:00</td>\n",
       "      <td>45.31</td>\n",
       "      <td>11.52</td>\n",
       "      <td>133.01</td>\n",
       "      <td>1.37</td>\n",
       "      <td>3.04</td>\n",
       "      <td>90.0</td>\n",
       "    </tr>\n",
       "    <tr>\n",
       "      <th>1</th>\n",
       "      <td>2021-01-17 11:00:00</td>\n",
       "      <td>44.60</td>\n",
       "      <td>11.52</td>\n",
       "      <td>133.01</td>\n",
       "      <td>1.37</td>\n",
       "      <td>7.21</td>\n",
       "      <td>87.0</td>\n",
       "    </tr>\n",
       "    <tr>\n",
       "      <th>2</th>\n",
       "      <td>2021-01-17 12:00:00</td>\n",
       "      <td>39.12</td>\n",
       "      <td>11.52</td>\n",
       "      <td>133.01</td>\n",
       "      <td>1.37</td>\n",
       "      <td>14.03</td>\n",
       "      <td>77.0</td>\n",
       "    </tr>\n",
       "    <tr>\n",
       "      <th>3</th>\n",
       "      <td>2021-01-17 13:00:00</td>\n",
       "      <td>35.20</td>\n",
       "      <td>11.52</td>\n",
       "      <td>133.01</td>\n",
       "      <td>1.37</td>\n",
       "      <td>20.43</td>\n",
       "      <td>69.0</td>\n",
       "    </tr>\n",
       "    <tr>\n",
       "      <th>4</th>\n",
       "      <td>2021-01-17 14:00:00</td>\n",
       "      <td>32.67</td>\n",
       "      <td>11.52</td>\n",
       "      <td>133.01</td>\n",
       "      <td>1.37</td>\n",
       "      <td>21.31</td>\n",
       "      <td>65.0</td>\n",
       "    </tr>\n",
       "  </tbody>\n",
       "</table>\n",
       "</div>"
      ],
      "text/plain": [
       "              Datetime  PM2.5    NO2     NH3    CO     O3   AQI\n",
       "0  2021-01-17 10:00:00  45.31  11.52  133.01  1.37   3.04  90.0\n",
       "1  2021-01-17 11:00:00  44.60  11.52  133.01  1.37   7.21  87.0\n",
       "2  2021-01-17 12:00:00  39.12  11.52  133.01  1.37  14.03  77.0\n",
       "3  2021-01-17 13:00:00  35.20  11.52  133.01  1.37  20.43  69.0\n",
       "4  2021-01-17 14:00:00  32.67  11.52  133.01  1.37  21.31  65.0"
      ]
     },
     "execution_count": 51,
     "metadata": {},
     "output_type": "execute_result"
    }
   ],
   "source": [
    "dataset2.columns=['Datetime','PM2.5','NO2','NH3','CO','O3','AQI']\n",
    "dataset2.interpolate(limit_direction=\"both\",inplace=True)\n",
    "dataset2.head(5)"
   ]
  },
  {
   "cell_type": "code",
   "execution_count": 52,
   "metadata": {},
   "outputs": [
    {
     "data": {
      "text/html": [
       "<div>\n",
       "<style scoped>\n",
       "    .dataframe tbody tr th:only-of-type {\n",
       "        vertical-align: middle;\n",
       "    }\n",
       "\n",
       "    .dataframe tbody tr th {\n",
       "        vertical-align: top;\n",
       "    }\n",
       "\n",
       "    .dataframe thead th {\n",
       "        text-align: right;\n",
       "    }\n",
       "</style>\n",
       "<table border=\"1\" class=\"dataframe\">\n",
       "  <thead>\n",
       "    <tr style=\"text-align: right;\">\n",
       "      <th></th>\n",
       "      <th>Datetime</th>\n",
       "      <th>PM2.5</th>\n",
       "      <th>NO2</th>\n",
       "      <th>NH3</th>\n",
       "      <th>CO</th>\n",
       "      <th>O3</th>\n",
       "      <th>AQI</th>\n",
       "    </tr>\n",
       "    <tr>\n",
       "      <th>Datetime</th>\n",
       "      <th></th>\n",
       "      <th></th>\n",
       "      <th></th>\n",
       "      <th></th>\n",
       "      <th></th>\n",
       "      <th></th>\n",
       "      <th></th>\n",
       "    </tr>\n",
       "  </thead>\n",
       "  <tbody>\n",
       "    <tr>\n",
       "      <th>2021-01-17 10:00:00</th>\n",
       "      <td>2021-01-17 10:00:00</td>\n",
       "      <td>45.31</td>\n",
       "      <td>11.52</td>\n",
       "      <td>133.01</td>\n",
       "      <td>1.37</td>\n",
       "      <td>3.04</td>\n",
       "      <td>90.0</td>\n",
       "    </tr>\n",
       "    <tr>\n",
       "      <th>2021-01-17 11:00:00</th>\n",
       "      <td>2021-01-17 11:00:00</td>\n",
       "      <td>44.60</td>\n",
       "      <td>11.52</td>\n",
       "      <td>133.01</td>\n",
       "      <td>1.37</td>\n",
       "      <td>7.21</td>\n",
       "      <td>87.0</td>\n",
       "    </tr>\n",
       "    <tr>\n",
       "      <th>2021-01-17 12:00:00</th>\n",
       "      <td>2021-01-17 12:00:00</td>\n",
       "      <td>39.12</td>\n",
       "      <td>11.52</td>\n",
       "      <td>133.01</td>\n",
       "      <td>1.37</td>\n",
       "      <td>14.03</td>\n",
       "      <td>77.0</td>\n",
       "    </tr>\n",
       "    <tr>\n",
       "      <th>2021-01-17 13:00:00</th>\n",
       "      <td>2021-01-17 13:00:00</td>\n",
       "      <td>35.20</td>\n",
       "      <td>11.52</td>\n",
       "      <td>133.01</td>\n",
       "      <td>1.37</td>\n",
       "      <td>20.43</td>\n",
       "      <td>69.0</td>\n",
       "    </tr>\n",
       "    <tr>\n",
       "      <th>2021-01-17 14:00:00</th>\n",
       "      <td>2021-01-17 14:00:00</td>\n",
       "      <td>32.67</td>\n",
       "      <td>11.52</td>\n",
       "      <td>133.01</td>\n",
       "      <td>1.37</td>\n",
       "      <td>21.31</td>\n",
       "      <td>65.0</td>\n",
       "    </tr>\n",
       "  </tbody>\n",
       "</table>\n",
       "</div>"
      ],
      "text/plain": [
       "                                Datetime  PM2.5    NO2     NH3    CO     O3  \\\n",
       "Datetime                                                                      \n",
       "2021-01-17 10:00:00  2021-01-17 10:00:00  45.31  11.52  133.01  1.37   3.04   \n",
       "2021-01-17 11:00:00  2021-01-17 11:00:00  44.60  11.52  133.01  1.37   7.21   \n",
       "2021-01-17 12:00:00  2021-01-17 12:00:00  39.12  11.52  133.01  1.37  14.03   \n",
       "2021-01-17 13:00:00  2021-01-17 13:00:00  35.20  11.52  133.01  1.37  20.43   \n",
       "2021-01-17 14:00:00  2021-01-17 14:00:00  32.67  11.52  133.01  1.37  21.31   \n",
       "\n",
       "                      AQI  \n",
       "Datetime                   \n",
       "2021-01-17 10:00:00  90.0  \n",
       "2021-01-17 11:00:00  87.0  \n",
       "2021-01-17 12:00:00  77.0  \n",
       "2021-01-17 13:00:00  69.0  \n",
       "2021-01-17 14:00:00  65.0  "
      ]
     },
     "execution_count": 52,
     "metadata": {},
     "output_type": "execute_result"
    }
   ],
   "source": [
    "from statsmodels.tsa.statespace.sarimax import SARIMAX\n",
    "dataset2.set_index(dataset2['Datetime'],inplace=True)\n",
    "dataset2.head(5)"
   ]
  },
  {
   "cell_type": "code",
   "execution_count": 53,
   "metadata": {},
   "outputs": [
    {
     "data": {
      "text/html": [
       "<div>\n",
       "<style scoped>\n",
       "    .dataframe tbody tr th:only-of-type {\n",
       "        vertical-align: middle;\n",
       "    }\n",
       "\n",
       "    .dataframe tbody tr th {\n",
       "        vertical-align: top;\n",
       "    }\n",
       "\n",
       "    .dataframe thead th {\n",
       "        text-align: right;\n",
       "    }\n",
       "</style>\n",
       "<table border=\"1\" class=\"dataframe\">\n",
       "  <thead>\n",
       "    <tr style=\"text-align: right;\">\n",
       "      <th></th>\n",
       "      <th>PM2.5</th>\n",
       "      <th>NO2</th>\n",
       "      <th>NH3</th>\n",
       "      <th>CO</th>\n",
       "      <th>O3</th>\n",
       "      <th>AQI</th>\n",
       "    </tr>\n",
       "    <tr>\n",
       "      <th>Datetime</th>\n",
       "      <th></th>\n",
       "      <th></th>\n",
       "      <th></th>\n",
       "      <th></th>\n",
       "      <th></th>\n",
       "      <th></th>\n",
       "    </tr>\n",
       "  </thead>\n",
       "  <tbody>\n",
       "    <tr>\n",
       "      <th>2021-01-17 10:00:00</th>\n",
       "      <td>45.31</td>\n",
       "      <td>11.52</td>\n",
       "      <td>133.01</td>\n",
       "      <td>1.37</td>\n",
       "      <td>3.04</td>\n",
       "      <td>90.0</td>\n",
       "    </tr>\n",
       "    <tr>\n",
       "      <th>2021-01-17 11:00:00</th>\n",
       "      <td>44.60</td>\n",
       "      <td>11.52</td>\n",
       "      <td>133.01</td>\n",
       "      <td>1.37</td>\n",
       "      <td>7.21</td>\n",
       "      <td>87.0</td>\n",
       "    </tr>\n",
       "    <tr>\n",
       "      <th>2021-01-17 12:00:00</th>\n",
       "      <td>39.12</td>\n",
       "      <td>11.52</td>\n",
       "      <td>133.01</td>\n",
       "      <td>1.37</td>\n",
       "      <td>14.03</td>\n",
       "      <td>77.0</td>\n",
       "    </tr>\n",
       "    <tr>\n",
       "      <th>2021-01-17 13:00:00</th>\n",
       "      <td>35.20</td>\n",
       "      <td>11.52</td>\n",
       "      <td>133.01</td>\n",
       "      <td>1.37</td>\n",
       "      <td>20.43</td>\n",
       "      <td>69.0</td>\n",
       "    </tr>\n",
       "    <tr>\n",
       "      <th>2021-01-17 14:00:00</th>\n",
       "      <td>32.67</td>\n",
       "      <td>11.52</td>\n",
       "      <td>133.01</td>\n",
       "      <td>1.37</td>\n",
       "      <td>21.31</td>\n",
       "      <td>65.0</td>\n",
       "    </tr>\n",
       "  </tbody>\n",
       "</table>\n",
       "</div>"
      ],
      "text/plain": [
       "                     PM2.5    NO2     NH3    CO     O3   AQI\n",
       "Datetime                                                    \n",
       "2021-01-17 10:00:00  45.31  11.52  133.01  1.37   3.04  90.0\n",
       "2021-01-17 11:00:00  44.60  11.52  133.01  1.37   7.21  87.0\n",
       "2021-01-17 12:00:00  39.12  11.52  133.01  1.37  14.03  77.0\n",
       "2021-01-17 13:00:00  35.20  11.52  133.01  1.37  20.43  69.0\n",
       "2021-01-17 14:00:00  32.67  11.52  133.01  1.37  21.31  65.0"
      ]
     },
     "execution_count": 53,
     "metadata": {},
     "output_type": "execute_result"
    }
   ],
   "source": [
    "dataset2=dataset2.drop(columns=['Datetime'],axis=1)\n",
    "dataset2.head(5)"
   ]
  },
  {
   "cell_type": "code",
   "execution_count": 54,
   "metadata": {},
   "outputs": [
    {
     "data": {
      "text/html": [
       "<div>\n",
       "<style scoped>\n",
       "    .dataframe tbody tr th:only-of-type {\n",
       "        vertical-align: middle;\n",
       "    }\n",
       "\n",
       "    .dataframe tbody tr th {\n",
       "        vertical-align: top;\n",
       "    }\n",
       "\n",
       "    .dataframe thead th {\n",
       "        text-align: right;\n",
       "    }\n",
       "</style>\n",
       "<table border=\"1\" class=\"dataframe\">\n",
       "  <thead>\n",
       "    <tr style=\"text-align: right;\">\n",
       "      <th></th>\n",
       "      <th>PM2.5</th>\n",
       "      <th>NO2</th>\n",
       "      <th>NH3</th>\n",
       "      <th>CO</th>\n",
       "      <th>O3</th>\n",
       "      <th>AQI</th>\n",
       "    </tr>\n",
       "    <tr>\n",
       "      <th>Datetime</th>\n",
       "      <th></th>\n",
       "      <th></th>\n",
       "      <th></th>\n",
       "      <th></th>\n",
       "      <th></th>\n",
       "      <th></th>\n",
       "    </tr>\n",
       "  </thead>\n",
       "  <tbody>\n",
       "    <tr>\n",
       "      <th>2021-01-17 10:00:00</th>\n",
       "      <td>45.31</td>\n",
       "      <td>11.52</td>\n",
       "      <td>133.01</td>\n",
       "      <td>1.37</td>\n",
       "      <td>3.04</td>\n",
       "      <td>90.0</td>\n",
       "    </tr>\n",
       "    <tr>\n",
       "      <th>2021-01-17 11:00:00</th>\n",
       "      <td>44.60</td>\n",
       "      <td>11.52</td>\n",
       "      <td>133.01</td>\n",
       "      <td>1.37</td>\n",
       "      <td>7.21</td>\n",
       "      <td>87.0</td>\n",
       "    </tr>\n",
       "    <tr>\n",
       "      <th>2021-01-17 12:00:00</th>\n",
       "      <td>39.12</td>\n",
       "      <td>11.52</td>\n",
       "      <td>133.01</td>\n",
       "      <td>1.37</td>\n",
       "      <td>14.03</td>\n",
       "      <td>77.0</td>\n",
       "    </tr>\n",
       "    <tr>\n",
       "      <th>2021-01-17 13:00:00</th>\n",
       "      <td>35.20</td>\n",
       "      <td>11.52</td>\n",
       "      <td>133.01</td>\n",
       "      <td>1.37</td>\n",
       "      <td>20.43</td>\n",
       "      <td>69.0</td>\n",
       "    </tr>\n",
       "    <tr>\n",
       "      <th>2021-01-17 14:00:00</th>\n",
       "      <td>32.67</td>\n",
       "      <td>11.52</td>\n",
       "      <td>133.01</td>\n",
       "      <td>1.37</td>\n",
       "      <td>21.31</td>\n",
       "      <td>65.0</td>\n",
       "    </tr>\n",
       "  </tbody>\n",
       "</table>\n",
       "</div>"
      ],
      "text/plain": [
       "                     PM2.5    NO2     NH3    CO     O3   AQI\n",
       "Datetime                                                    \n",
       "2021-01-17 10:00:00  45.31  11.52  133.01  1.37   3.04  90.0\n",
       "2021-01-17 11:00:00  44.60  11.52  133.01  1.37   7.21  87.0\n",
       "2021-01-17 12:00:00  39.12  11.52  133.01  1.37  14.03  77.0\n",
       "2021-01-17 13:00:00  35.20  11.52  133.01  1.37  20.43  69.0\n",
       "2021-01-17 14:00:00  32.67  11.52  133.01  1.37  21.31  65.0"
      ]
     },
     "execution_count": 54,
     "metadata": {},
     "output_type": "execute_result"
    }
   ],
   "source": [
    "df = dataset2.copy()\n",
    "df.head(5)"
   ]
  },
  {
   "cell_type": "code",
   "execution_count": 55,
   "metadata": {},
   "outputs": [
    {
     "name": "stdout",
     "output_type": "stream",
     "text": [
      "[116.0, 111.0, 109.0, 107.0, 102.0]\n"
     ]
    }
   ],
   "source": [
    "actual=df.tail(5)['AQI'].tolist()\n",
    "print(actual)"
   ]
  },
  {
   "cell_type": "code",
   "execution_count": 56,
   "metadata": {},
   "outputs": [],
   "source": [
    "df = df.iloc[:-5]"
   ]
  },
  {
   "cell_type": "code",
   "execution_count": 57,
   "metadata": {},
   "outputs": [],
   "source": [
    "e = pd.DataFrame(df[['PM2.5','NO2','NH3','O3','CO']].values)\n"
   ]
  },
  {
   "cell_type": "code",
   "execution_count": 58,
   "metadata": {},
   "outputs": [
    {
     "name": "stderr",
     "output_type": "stream",
     "text": [
      "C:\\Users\\sanju\\Anaconda3\\lib\\site-packages\\statsmodels\\base\\model.py:512: ConvergenceWarning: Maximum Likelihood optimization failed to converge. Check mle_retvals\n",
      "  \"Check mle_retvals\", ConvergenceWarning)\n"
     ]
    }
   ],
   "source": [
    "model = SARIMAX(list(df['AQI']),exog=e,order=(1,0,1),seasonal_order=(1,0,1,24),enforce_invertibility=False)\n",
    "results = model.fit()"
   ]
  },
  {
   "cell_type": "code",
   "execution_count": 59,
   "metadata": {},
   "outputs": [],
   "source": [
    "exog_forecast = e[1684:].values\n",
    "fcast = results.predict(len(df),len(df)+4,exog=exog_forecast)"
   ]
  },
  {
   "cell_type": "code",
   "execution_count": 67,
   "metadata": {},
   "outputs": [
    {
     "name": "stdout",
     "output_type": "stream",
     "text": [
      "Forecasted AQI:\n",
      "[108.90167444 105.7297055  104.92049579 105.38284937 111.56817646]\n"
     ]
    }
   ],
   "source": [
    "y = fcast.values\n",
    "y = y.ravel()\n",
    "print(\"Forecasted AQI:\")\n",
    "print(y)"
   ]
  },
  {
   "cell_type": "code",
   "execution_count": 68,
   "metadata": {},
   "outputs": [
    {
     "name": "stdout",
     "output_type": "stream",
     "text": [
      "RMSE:\n",
      "6.147678608556362\n"
     ]
    }
   ],
   "source": [
    "from sklearn.metrics import mean_squared_error\n",
    "from math import sqrt\n",
    "\n",
    "#calculate RMSE\n",
    "r = sqrt(mean_squared_error(actual, y)) \n",
    "print(\"RMSE:\")\n",
    "print(r)"
   ]
  },
  {
   "cell_type": "code",
   "execution_count": null,
   "metadata": {},
   "outputs": [],
   "source": []
  },
  {
   "cell_type": "code",
   "execution_count": null,
   "metadata": {},
   "outputs": [],
   "source": []
  },
  {
   "cell_type": "code",
   "execution_count": null,
   "metadata": {},
   "outputs": [],
   "source": []
  },
  {
   "cell_type": "code",
   "execution_count": null,
   "metadata": {},
   "outputs": [],
   "source": []
  },
  {
   "cell_type": "code",
   "execution_count": null,
   "metadata": {},
   "outputs": [],
   "source": []
  },
  {
   "cell_type": "code",
   "execution_count": null,
   "metadata": {},
   "outputs": [],
   "source": []
  },
  {
   "cell_type": "code",
   "execution_count": null,
   "metadata": {},
   "outputs": [],
   "source": []
  },
  {
   "cell_type": "code",
   "execution_count": null,
   "metadata": {},
   "outputs": [],
   "source": []
  },
  {
   "cell_type": "code",
   "execution_count": null,
   "metadata": {},
   "outputs": [],
   "source": []
  },
  {
   "cell_type": "code",
   "execution_count": null,
   "metadata": {},
   "outputs": [],
   "source": []
  },
  {
   "cell_type": "code",
   "execution_count": 5,
   "metadata": {},
   "outputs": [
    {
     "name": "stderr",
     "output_type": "stream",
     "text": [
      "C:\\Users\\sanju\\Anaconda3\\lib\\site-packages\\statsmodels\\base\\model.py:512: ConvergenceWarning: Maximum Likelihood optimization failed to converge. Check mle_retvals\n",
      "  \"Check mle_retvals\", ConvergenceWarning)\n"
     ]
    },
    {
     "name": "stdout",
     "output_type": "stream",
     "text": [
      "Forecasted AQI:\n",
      "[120.66176993 114.70096696 112.45337077 108.03420112 107.5171574 ]\n"
     ]
    }
   ],
   "source": [
    "#PM2.5 removed\n",
    "\n",
    "import math\n",
    "import numpy as np\n",
    "import pandas as pd\n",
    "\n",
    "data2 = 'sarimaxdataset.csv'\n",
    "\n",
    "dataset2 = pd.read_csv(data2)\n",
    "\n",
    "dataset2.columns=['Datetime','PM2.5','NO2','NH3','CO','O3','AQI']\n",
    "\n",
    "dataset2 = dataset2.drop(columns=['PM2.5'],axis=1)\n",
    "\n",
    "dataset2.head()\n",
    "\n",
    "dataset2.interpolate(limit_direction=\"both\",inplace=True)\n",
    "\n",
    "from statsmodels.tsa.statespace.sarimax import SARIMAX\n",
    "\n",
    "dataset2.set_index(dataset2['Datetime'],inplace=True)\n",
    "\n",
    "dataset2=dataset2.drop(columns=['Datetime'],axis=1)\n",
    "dataset2.head()\n",
    "\n",
    "df = dataset2.copy()\n",
    "df.tail()\n",
    "e = pd.DataFrame(df[['NO2','NH3','O3','CO']].values)\n",
    "model = SARIMAX(list(df['AQI']),exog=e,order=(1,0,1),seasonal_order=(1,0,1,24),enforce_invertibility=False)\n",
    "results = model.fit()\n",
    "exog_forecast = e[1684:].values\n",
    "fcast = results.predict(len(df),len(df)+4,exog=exog_forecast)\n",
    "y = fcast.values\n",
    "y = y.ravel()\n",
    "print(\"Forecasted AQI:\")\n",
    "print(y)\n"
   ]
  },
  {
   "cell_type": "code",
   "execution_count": 6,
   "metadata": {},
   "outputs": [
    {
     "name": "stdout",
     "output_type": "stream",
     "text": [
      "RMSE:\n",
      "6.470910989242351\n"
     ]
    }
   ],
   "source": [
    "actual = [116.0, 111.0, 109.0, 107.0, 102.0]\n",
    "\n",
    "from sklearn.metrics import mean_squared_error\n",
    "from math import sqrt\n",
    "\n",
    "#calculate RMSE\n",
    "r = sqrt(mean_squared_error(actual, y)) \n",
    "print(\"RMSE:\")\n",
    "print(r)"
   ]
  },
  {
   "cell_type": "code",
   "execution_count": 106,
   "metadata": {},
   "outputs": [
    {
     "name": "stderr",
     "output_type": "stream",
     "text": [
      "C:\\Users\\ssneh\\anaconda3\\lib\\site-packages\\statsmodels\\base\\model.py:568: ConvergenceWarning: Maximum Likelihood optimization failed to converge. Check mle_retvals\n",
      "  \"Check mle_retvals\", ConvergenceWarning)\n"
     ]
    },
    {
     "name": "stdout",
     "output_type": "stream",
     "text": [
      "Forecasted AQI:\n",
      "[108.70355026 105.5287681  104.92998817 105.39740033 111.36245886]\n",
      "RMSE:\n",
      "6.163789665468293\n"
     ]
    }
   ],
   "source": [
    "#NO2 removed\n",
    "\n",
    "import math\n",
    "import numpy as np\n",
    "import pandas as pd\n",
    "\n",
    "data2 = 'sarimaxdataset.csv'\n",
    "\n",
    "dataset2 = pd.read_csv(data2)\n",
    "\n",
    "dataset2.columns=['Datetime','PM2.5','NO2','NH3','CO','O3','AQI']\n",
    "\n",
    "dataset2 = dataset2.drop(columns=['NO2'],axis=1)\n",
    "\n",
    "dataset2.interpolate(limit_direction=\"both\",inplace=True)\n",
    "\n",
    "from statsmodels.tsa.statespace.sarimax import SARIMAX\n",
    "\n",
    "dataset2.set_index(dataset2['Datetime'],inplace=True)\n",
    "\n",
    "dataset2=dataset2.drop(columns=['Datetime'],axis=1)\n",
    "dataset2.head()\n",
    "\n",
    "df = dataset2.copy()\n",
    "df.tail()\n",
    "e = pd.DataFrame(df[['PM2.5','NH3','O3','CO']].values)\n",
    "model = SARIMAX(list(df['AQI']),exog=e,order=(1,0,1),seasonal_order=(1,0,1,24),enforce_invertibility=False)\n",
    "results = model.fit()\n",
    "exog_forecast = e[1684:].values\n",
    "fcast = results.predict(len(df),len(df)+4,exog=exog_forecast)\n",
    "y = fcast.values\n",
    "y = y.ravel()\n",
    "print(\"Forecasted AQI:\")\n",
    "print(y)\n",
    "actual = [116.0, 111.0, 109.0, 107.0, 102.0]\n",
    "\n",
    "\n",
    "from sklearn.metrics import mean_squared_error\n",
    "from math import sqrt\n",
    "\n",
    "#calculate RMSE\n",
    "r = sqrt(mean_squared_error(actual, y)) \n",
    "print(\"RMSE:\")\n",
    "print(r)"
   ]
  },
  {
   "cell_type": "code",
   "execution_count": 107,
   "metadata": {},
   "outputs": [
    {
     "name": "stderr",
     "output_type": "stream",
     "text": [
      "C:\\Users\\ssneh\\anaconda3\\lib\\site-packages\\statsmodels\\base\\model.py:568: ConvergenceWarning: Maximum Likelihood optimization failed to converge. Check mle_retvals\n",
      "  \"Check mle_retvals\", ConvergenceWarning)\n"
     ]
    },
    {
     "name": "stdout",
     "output_type": "stream",
     "text": [
      "Forecasted AQI:\n",
      "[108.07811518 104.45471377 105.88521851 106.86436941 110.82114058]\n",
      "RMSE:\n",
      "6.214978866560837\n"
     ]
    }
   ],
   "source": [
    "#NH3 removed\n",
    "\n",
    "import math\n",
    "import numpy as np\n",
    "import pandas as pd\n",
    "\n",
    "data2 = 'sarimaxdataset.csv'\n",
    "\n",
    "dataset2 = pd.read_csv(data2)\n",
    "\n",
    "dataset2.columns=['Datetime','PM2.5','NO2','NH3','CO','O3','AQI']\n",
    "\n",
    "dataset2 = dataset2.drop(columns=['NH3'],axis=1)\n",
    "\n",
    "dataset2.interpolate(limit_direction=\"both\",inplace=True)\n",
    "\n",
    "from statsmodels.tsa.statespace.sarimax import SARIMAX\n",
    "\n",
    "dataset2.set_index(dataset2['Datetime'],inplace=True)\n",
    "\n",
    "dataset2=dataset2.drop(columns=['Datetime'],axis=1)\n",
    "dataset2.head()\n",
    "\n",
    "df = dataset2.copy()\n",
    "df.tail()\n",
    "\n",
    "e = pd.DataFrame(df[['PM2.5','NO2','O3','CO']].values)\n",
    "\n",
    "model = SARIMAX(list(df['AQI']),exog=e,order=(1,0,1),seasonal_order=(1,0,1,24),enforce_invertibility=False)\n",
    "results = model.fit()\n",
    "\n",
    "exog_forecast = e[1684:].values\n",
    "fcast = results.predict(len(df),len(df)+4,exog=exog_forecast)\n",
    "y = fcast.values\n",
    "y = y.ravel()\n",
    "print(\"Forecasted AQI:\")\n",
    "print(y)\n",
    "\n",
    "actual = [116.0, 111.0, 109.0, 107.0, 102.0]\n",
    "\n",
    "\n",
    "from sklearn.metrics import mean_squared_error\n",
    "from math import sqrt\n",
    "\n",
    "#calculate RMSE\n",
    "r = sqrt(mean_squared_error(actual, y)) \n",
    "print(\"RMSE:\")\n",
    "print(r)"
   ]
  },
  {
   "cell_type": "code",
   "execution_count": 108,
   "metadata": {},
   "outputs": [
    {
     "name": "stdout",
     "output_type": "stream",
     "text": [
      "Forecasted AQI:\n",
      "[108.92242753 105.74722085 105.05216724 105.36919538 111.6396842 ]\n",
      "RMSE:\n",
      "6.145765036639948\n"
     ]
    }
   ],
   "source": [
    "#CO removed\n",
    "\n",
    "import math\n",
    "import numpy as np\n",
    "import pandas as pd\n",
    "\n",
    "data2 = 'sarimaxdataset.csv'\n",
    "\n",
    "dataset2 = pd.read_csv(data2)\n",
    "\n",
    "dataset2.columns=['Datetime','PM2.5','NO2','NH3','CO','O3','AQI']\n",
    "\n",
    "dataset2 =  dataset2.drop(columns=['CO'],axis=1)\n",
    "\n",
    "dataset2.interpolate(limit_direction=\"both\",inplace=True)\n",
    "\n",
    "from statsmodels.tsa.statespace.sarimax import SARIMAX\n",
    "\n",
    "dataset2.set_index(dataset2['Datetime'],inplace=True)\n",
    "\n",
    "dataset2=dataset2.drop(columns=['Datetime'],axis=1)\n",
    "dataset2.head()\n",
    "\n",
    "df = dataset2.copy()\n",
    "df.tail()\n",
    "\n",
    "e = pd.DataFrame(df[['PM2.5','NO2','NH3','O3']].values)\n",
    "\n",
    "model = SARIMAX(list(df['AQI']),exog=e,order=(1,0,1),seasonal_order=(1,0,1,24),enforce_invertibility=False)\n",
    "results = model.fit()\n",
    "\n",
    "exog_forecast = e[1684:].values\n",
    "fcast = results.predict(len(df),len(df)+4,exog=exog_forecast)\n",
    "y = fcast.values\n",
    "y = y.ravel()\n",
    "print(\"Forecasted AQI:\")\n",
    "print(y)\n",
    "\n",
    "actual = [116.0, 111.0, 109.0, 107.0, 102.0]\n",
    "\n",
    "\n",
    "from sklearn.metrics import mean_squared_error\n",
    "from math import sqrt\n",
    "\n",
    "#calculate RMSE\n",
    "r = sqrt(mean_squared_error(actual, y)) \n",
    "print(\"RMSE:\")\n",
    "print(r)"
   ]
  },
  {
   "cell_type": "code",
   "execution_count": 109,
   "metadata": {},
   "outputs": [
    {
     "name": "stdout",
     "output_type": "stream",
     "text": [
      "Forecasted AQI:\n",
      "[108.38826546 105.65262853 104.82380481 105.16810891 111.29748977]\n",
      "RMSE:\n",
      "6.225313353359774\n"
     ]
    }
   ],
   "source": [
    "#O3 removed\n",
    "\n",
    "import math\n",
    "import numpy as np\n",
    "import pandas as pd\n",
    "\n",
    "data2 = 'sarimaxdataset.csv'\n",
    "\n",
    "dataset2 = pd.read_csv(data2)\n",
    "\n",
    "dataset2.columns=['Datetime','PM2.5','NO2','NH3','CO','O3','AQI']\n",
    "\n",
    "dataset2 =  dataset2.drop(columns=['O3'],axis=1)\n",
    "\n",
    "dataset2.interpolate(limit_direction=\"both\",inplace=True)\n",
    "\n",
    "from statsmodels.tsa.statespace.sarimax import SARIMAX\n",
    "\n",
    "dataset2.set_index(dataset2['Datetime'],inplace=True)\n",
    "\n",
    "dataset2=dataset2.drop(columns=['Datetime'],axis=1)\n",
    "dataset2.head()\n",
    "\n",
    "df = dataset2.copy()\n",
    "df.tail()\n",
    "\n",
    "e = pd.DataFrame(df[['PM2.5','NO2','NH3','CO']].values)\n",
    "\n",
    "model = SARIMAX(list(df['AQI']),exog=e,order=(1,0,1),seasonal_order=(1,0,1,24),enforce_invertibility=False)\n",
    "results = model.fit()\n",
    "\n",
    "exog_forecast = e[1684:].values\n",
    "fcast = results.predict(len(df),len(df)+4,exog=exog_forecast)\n",
    "y = fcast.values\n",
    "y = y.ravel()\n",
    "print(\"Forecasted AQI:\")\n",
    "print(y)\n",
    "\n",
    "actual = [116.0, 111.0, 109.0, 107.0, 102.0]\n",
    "\n",
    "\n",
    "from sklearn.metrics import mean_squared_error\n",
    "from math import sqrt\n",
    "\n",
    "#calculate RMSE\n",
    "r = sqrt(mean_squared_error(actual, y)) \n",
    "print(\"RMSE:\")\n",
    "print(r)"
   ]
  }
 ],
 "metadata": {
  "kernelspec": {
   "display_name": "Python 3",
   "language": "python",
   "name": "python3"
  },
  "language_info": {
   "codemirror_mode": {
    "name": "ipython",
    "version": 3
   },
   "file_extension": ".py",
   "mimetype": "text/x-python",
   "name": "python",
   "nbconvert_exporter": "python",
   "pygments_lexer": "ipython3",
   "version": "3.7.3"
  }
 },
 "nbformat": 4,
 "nbformat_minor": 4
}
