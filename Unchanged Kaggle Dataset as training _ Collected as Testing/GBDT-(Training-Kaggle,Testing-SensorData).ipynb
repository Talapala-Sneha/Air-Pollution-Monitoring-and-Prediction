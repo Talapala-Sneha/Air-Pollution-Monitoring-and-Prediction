{
 "cells": [
  {
   "cell_type": "code",
   "execution_count": 1,
   "metadata": {},
   "outputs": [],
   "source": [
    "from pandas import concat,DataFrame\n",
    "import numpy as np \n",
    "import pandas as pd"
   ]
  },
  {
   "cell_type": "code",
   "execution_count": 2,
   "metadata": {},
   "outputs": [
    {
     "data": {
      "text/html": [
       "<div>\n",
       "<style scoped>\n",
       "    .dataframe tbody tr th:only-of-type {\n",
       "        vertical-align: middle;\n",
       "    }\n",
       "\n",
       "    .dataframe tbody tr th {\n",
       "        vertical-align: top;\n",
       "    }\n",
       "\n",
       "    .dataframe thead th {\n",
       "        text-align: right;\n",
       "    }\n",
       "</style>\n",
       "<table border=\"1\" class=\"dataframe\">\n",
       "  <thead>\n",
       "    <tr style=\"text-align: right;\">\n",
       "      <th></th>\n",
       "      <th>Datetime</th>\n",
       "      <th>PM2.5</th>\n",
       "      <th>NO2</th>\n",
       "      <th>NH3</th>\n",
       "      <th>CO</th>\n",
       "      <th>O3</th>\n",
       "      <th>AQI</th>\n",
       "    </tr>\n",
       "  </thead>\n",
       "  <tbody>\n",
       "    <tr>\n",
       "      <th>187751</th>\n",
       "      <td>2015-01-01 01:00:00</td>\n",
       "      <td>NaN</td>\n",
       "      <td>47.97</td>\n",
       "      <td>6.36</td>\n",
       "      <td>0.92</td>\n",
       "      <td>7.65</td>\n",
       "      <td>NaN</td>\n",
       "    </tr>\n",
       "    <tr>\n",
       "      <th>187752</th>\n",
       "      <td>2015-01-01 02:00:00</td>\n",
       "      <td>NaN</td>\n",
       "      <td>12.31</td>\n",
       "      <td>4.93</td>\n",
       "      <td>0.77</td>\n",
       "      <td>10.96</td>\n",
       "      <td>NaN</td>\n",
       "    </tr>\n",
       "    <tr>\n",
       "      <th>187753</th>\n",
       "      <td>2015-01-01 03:00:00</td>\n",
       "      <td>NaN</td>\n",
       "      <td>13.72</td>\n",
       "      <td>3.92</td>\n",
       "      <td>1.06</td>\n",
       "      <td>12.14</td>\n",
       "      <td>NaN</td>\n",
       "    </tr>\n",
       "    <tr>\n",
       "      <th>187754</th>\n",
       "      <td>2015-01-01 04:00:00</td>\n",
       "      <td>NaN</td>\n",
       "      <td>14.45</td>\n",
       "      <td>4.54</td>\n",
       "      <td>1.54</td>\n",
       "      <td>11.95</td>\n",
       "      <td>NaN</td>\n",
       "    </tr>\n",
       "    <tr>\n",
       "      <th>187755</th>\n",
       "      <td>2015-01-01 05:00:00</td>\n",
       "      <td>NaN</td>\n",
       "      <td>20.16</td>\n",
       "      <td>4.85</td>\n",
       "      <td>1.03</td>\n",
       "      <td>11.64</td>\n",
       "      <td>NaN</td>\n",
       "    </tr>\n",
       "  </tbody>\n",
       "</table>\n",
       "</div>"
      ],
      "text/plain": [
       "                   Datetime  PM2.5    NO2   NH3    CO     O3  AQI\n",
       "187751  2015-01-01 01:00:00    NaN  47.97  6.36  0.92   7.65  NaN\n",
       "187752  2015-01-01 02:00:00    NaN  12.31  4.93  0.77  10.96  NaN\n",
       "187753  2015-01-01 03:00:00    NaN  13.72  3.92  1.06  12.14  NaN\n",
       "187754  2015-01-01 04:00:00    NaN  14.45  4.54  1.54  11.95  NaN\n",
       "187755  2015-01-01 05:00:00    NaN  20.16  4.85  1.03  11.64  NaN"
      ]
     },
     "execution_count": 2,
     "metadata": {},
     "output_type": "execute_result"
    }
   ],
   "source": [
    "df = pd.read_csv(\"city_hour.csv\") \n",
    "df=df[df['City']=='Chennai']\n",
    "df.drop(columns=['City','NOx','PM10','SO2','NO','AQI_Bucket','Benzene','Toluene','Xylene'],axis=1,inplace=True)\n",
    "df.head(5)"
   ]
  },
  {
   "cell_type": "code",
   "execution_count": 3,
   "metadata": {},
   "outputs": [
    {
     "data": {
      "text/html": [
       "<div>\n",
       "<style scoped>\n",
       "    .dataframe tbody tr th:only-of-type {\n",
       "        vertical-align: middle;\n",
       "    }\n",
       "\n",
       "    .dataframe tbody tr th {\n",
       "        vertical-align: top;\n",
       "    }\n",
       "\n",
       "    .dataframe thead th {\n",
       "        text-align: right;\n",
       "    }\n",
       "</style>\n",
       "<table border=\"1\" class=\"dataframe\">\n",
       "  <thead>\n",
       "    <tr style=\"text-align: right;\">\n",
       "      <th></th>\n",
       "      <th>Datetime</th>\n",
       "      <th>PM2.5</th>\n",
       "      <th>NO2</th>\n",
       "      <th>NH3</th>\n",
       "      <th>CO</th>\n",
       "      <th>O3</th>\n",
       "      <th>AQI</th>\n",
       "    </tr>\n",
       "  </thead>\n",
       "  <tbody>\n",
       "    <tr>\n",
       "      <th>187751</th>\n",
       "      <td>2015-01-01 01:00:00</td>\n",
       "      <td>428.3</td>\n",
       "      <td>47.97</td>\n",
       "      <td>6.36</td>\n",
       "      <td>0.92</td>\n",
       "      <td>7.65</td>\n",
       "      <td>333.0</td>\n",
       "    </tr>\n",
       "    <tr>\n",
       "      <th>187752</th>\n",
       "      <td>2015-01-01 02:00:00</td>\n",
       "      <td>428.3</td>\n",
       "      <td>12.31</td>\n",
       "      <td>4.93</td>\n",
       "      <td>0.77</td>\n",
       "      <td>10.96</td>\n",
       "      <td>333.0</td>\n",
       "    </tr>\n",
       "    <tr>\n",
       "      <th>187753</th>\n",
       "      <td>2015-01-01 03:00:00</td>\n",
       "      <td>428.3</td>\n",
       "      <td>13.72</td>\n",
       "      <td>3.92</td>\n",
       "      <td>1.06</td>\n",
       "      <td>12.14</td>\n",
       "      <td>333.0</td>\n",
       "    </tr>\n",
       "    <tr>\n",
       "      <th>187754</th>\n",
       "      <td>2015-01-01 04:00:00</td>\n",
       "      <td>428.3</td>\n",
       "      <td>14.45</td>\n",
       "      <td>4.54</td>\n",
       "      <td>1.54</td>\n",
       "      <td>11.95</td>\n",
       "      <td>333.0</td>\n",
       "    </tr>\n",
       "    <tr>\n",
       "      <th>187755</th>\n",
       "      <td>2015-01-01 05:00:00</td>\n",
       "      <td>428.3</td>\n",
       "      <td>20.16</td>\n",
       "      <td>4.85</td>\n",
       "      <td>1.03</td>\n",
       "      <td>11.64</td>\n",
       "      <td>333.0</td>\n",
       "    </tr>\n",
       "  </tbody>\n",
       "</table>\n",
       "</div>"
      ],
      "text/plain": [
       "                   Datetime  PM2.5    NO2   NH3    CO     O3    AQI\n",
       "187751  2015-01-01 01:00:00  428.3  47.97  6.36  0.92   7.65  333.0\n",
       "187752  2015-01-01 02:00:00  428.3  12.31  4.93  0.77  10.96  333.0\n",
       "187753  2015-01-01 03:00:00  428.3  13.72  3.92  1.06  12.14  333.0\n",
       "187754  2015-01-01 04:00:00  428.3  14.45  4.54  1.54  11.95  333.0\n",
       "187755  2015-01-01 05:00:00  428.3  20.16  4.85  1.03  11.64  333.0"
      ]
     },
     "execution_count": 3,
     "metadata": {},
     "output_type": "execute_result"
    }
   ],
   "source": [
    "df.interpolate(limit_direction=\"both\",inplace=True)\n",
    "df.head(5)"
   ]
  },
  {
   "cell_type": "code",
   "execution_count": 4,
   "metadata": {},
   "outputs": [
    {
     "data": {
      "text/html": [
       "<div>\n",
       "<style scoped>\n",
       "    .dataframe tbody tr th:only-of-type {\n",
       "        vertical-align: middle;\n",
       "    }\n",
       "\n",
       "    .dataframe tbody tr th {\n",
       "        vertical-align: top;\n",
       "    }\n",
       "\n",
       "    .dataframe thead th {\n",
       "        text-align: right;\n",
       "    }\n",
       "</style>\n",
       "<table border=\"1\" class=\"dataframe\">\n",
       "  <thead>\n",
       "    <tr style=\"text-align: right;\">\n",
       "      <th></th>\n",
       "      <th>Datetime</th>\n",
       "      <th>PM2.5</th>\n",
       "      <th>NO2</th>\n",
       "      <th>NH3</th>\n",
       "      <th>CO</th>\n",
       "      <th>O3</th>\n",
       "      <th>AQI</th>\n",
       "    </tr>\n",
       "  </thead>\n",
       "  <tbody>\n",
       "    <tr>\n",
       "      <th>0</th>\n",
       "      <td>2021-01-17 10:00:00</td>\n",
       "      <td>45.31</td>\n",
       "      <td>NaN</td>\n",
       "      <td>NaN</td>\n",
       "      <td>NaN</td>\n",
       "      <td>3.04</td>\n",
       "      <td>90.0</td>\n",
       "    </tr>\n",
       "    <tr>\n",
       "      <th>1</th>\n",
       "      <td>2021-01-17 11:00:00</td>\n",
       "      <td>44.60</td>\n",
       "      <td>NaN</td>\n",
       "      <td>NaN</td>\n",
       "      <td>NaN</td>\n",
       "      <td>7.21</td>\n",
       "      <td>87.0</td>\n",
       "    </tr>\n",
       "    <tr>\n",
       "      <th>2</th>\n",
       "      <td>2021-01-17 12:00:00</td>\n",
       "      <td>39.12</td>\n",
       "      <td>NaN</td>\n",
       "      <td>NaN</td>\n",
       "      <td>NaN</td>\n",
       "      <td>14.03</td>\n",
       "      <td>77.0</td>\n",
       "    </tr>\n",
       "    <tr>\n",
       "      <th>3</th>\n",
       "      <td>2021-01-17 13:00:00</td>\n",
       "      <td>35.20</td>\n",
       "      <td>NaN</td>\n",
       "      <td>NaN</td>\n",
       "      <td>NaN</td>\n",
       "      <td>20.43</td>\n",
       "      <td>69.0</td>\n",
       "    </tr>\n",
       "    <tr>\n",
       "      <th>4</th>\n",
       "      <td>2021-01-17 14:00:00</td>\n",
       "      <td>32.67</td>\n",
       "      <td>NaN</td>\n",
       "      <td>NaN</td>\n",
       "      <td>NaN</td>\n",
       "      <td>21.31</td>\n",
       "      <td>65.0</td>\n",
       "    </tr>\n",
       "  </tbody>\n",
       "</table>\n",
       "</div>"
      ],
      "text/plain": [
       "              Datetime  PM2.5  NO2  NH3  CO     O3   AQI\n",
       "0  2021-01-17 10:00:00  45.31  NaN  NaN NaN   3.04  90.0\n",
       "1  2021-01-17 11:00:00  44.60  NaN  NaN NaN   7.21  87.0\n",
       "2  2021-01-17 12:00:00  39.12  NaN  NaN NaN  14.03  77.0\n",
       "3  2021-01-17 13:00:00  35.20  NaN  NaN NaN  20.43  69.0\n",
       "4  2021-01-17 14:00:00  32.67  NaN  NaN NaN  21.31  65.0"
      ]
     },
     "execution_count": 4,
     "metadata": {},
     "output_type": "execute_result"
    }
   ],
   "source": [
    "df_test=pd.read_csv(\"Sensor_Data_Full.csv\")\n",
    "df_test.columns=['Datetime','PM2.5','NO2','NH3','CO','O3','AQI']\n",
    "df_test.head(5)"
   ]
  },
  {
   "cell_type": "code",
   "execution_count": 5,
   "metadata": {},
   "outputs": [
    {
     "data": {
      "text/html": [
       "<div>\n",
       "<style scoped>\n",
       "    .dataframe tbody tr th:only-of-type {\n",
       "        vertical-align: middle;\n",
       "    }\n",
       "\n",
       "    .dataframe tbody tr th {\n",
       "        vertical-align: top;\n",
       "    }\n",
       "\n",
       "    .dataframe thead th {\n",
       "        text-align: right;\n",
       "    }\n",
       "</style>\n",
       "<table border=\"1\" class=\"dataframe\">\n",
       "  <thead>\n",
       "    <tr style=\"text-align: right;\">\n",
       "      <th></th>\n",
       "      <th>Datetime</th>\n",
       "      <th>PM2.5</th>\n",
       "      <th>NO2</th>\n",
       "      <th>NH3</th>\n",
       "      <th>CO</th>\n",
       "      <th>O3</th>\n",
       "      <th>AQI</th>\n",
       "    </tr>\n",
       "  </thead>\n",
       "  <tbody>\n",
       "    <tr>\n",
       "      <th>0</th>\n",
       "      <td>2021-01-17 10:00:00</td>\n",
       "      <td>45.31</td>\n",
       "      <td>11.52</td>\n",
       "      <td>133.01</td>\n",
       "      <td>1.37</td>\n",
       "      <td>3.04</td>\n",
       "      <td>90.0</td>\n",
       "    </tr>\n",
       "    <tr>\n",
       "      <th>1</th>\n",
       "      <td>2021-01-17 11:00:00</td>\n",
       "      <td>44.60</td>\n",
       "      <td>11.52</td>\n",
       "      <td>133.01</td>\n",
       "      <td>1.37</td>\n",
       "      <td>7.21</td>\n",
       "      <td>87.0</td>\n",
       "    </tr>\n",
       "    <tr>\n",
       "      <th>2</th>\n",
       "      <td>2021-01-17 12:00:00</td>\n",
       "      <td>39.12</td>\n",
       "      <td>11.52</td>\n",
       "      <td>133.01</td>\n",
       "      <td>1.37</td>\n",
       "      <td>14.03</td>\n",
       "      <td>77.0</td>\n",
       "    </tr>\n",
       "    <tr>\n",
       "      <th>3</th>\n",
       "      <td>2021-01-17 13:00:00</td>\n",
       "      <td>35.20</td>\n",
       "      <td>11.52</td>\n",
       "      <td>133.01</td>\n",
       "      <td>1.37</td>\n",
       "      <td>20.43</td>\n",
       "      <td>69.0</td>\n",
       "    </tr>\n",
       "    <tr>\n",
       "      <th>4</th>\n",
       "      <td>2021-01-17 14:00:00</td>\n",
       "      <td>32.67</td>\n",
       "      <td>11.52</td>\n",
       "      <td>133.01</td>\n",
       "      <td>1.37</td>\n",
       "      <td>21.31</td>\n",
       "      <td>65.0</td>\n",
       "    </tr>\n",
       "  </tbody>\n",
       "</table>\n",
       "</div>"
      ],
      "text/plain": [
       "              Datetime  PM2.5    NO2     NH3    CO     O3   AQI\n",
       "0  2021-01-17 10:00:00  45.31  11.52  133.01  1.37   3.04  90.0\n",
       "1  2021-01-17 11:00:00  44.60  11.52  133.01  1.37   7.21  87.0\n",
       "2  2021-01-17 12:00:00  39.12  11.52  133.01  1.37  14.03  77.0\n",
       "3  2021-01-17 13:00:00  35.20  11.52  133.01  1.37  20.43  69.0\n",
       "4  2021-01-17 14:00:00  32.67  11.52  133.01  1.37  21.31  65.0"
      ]
     },
     "execution_count": 5,
     "metadata": {},
     "output_type": "execute_result"
    }
   ],
   "source": [
    "df_test.interpolate(limit_direction=\"both\",inplace=True)\n",
    "df_test.head()\n"
   ]
  },
  {
   "cell_type": "code",
   "execution_count": 6,
   "metadata": {},
   "outputs": [],
   "source": [
    "aqi_list=df['AQI'].to_list()\n",
    "aqi_list_test=df_test['AQI'].to_list()\n"
   ]
  },
  {
   "cell_type": "code",
   "execution_count": 7,
   "metadata": {},
   "outputs": [],
   "source": [
    "def series_to_supervised(data, n_in, n_out):\n",
    "\tn_vars = 1 if type(data) is list else data.shape[1]\n",
    "\tdf = DataFrame(data)\n",
    "\tcols, names = list(), list()\n",
    "\t# input sequence (t-n, ... t-1)\n",
    "\tfor i in range(n_in, 0, -1):\n",
    "\t\tcols.append(df.shift(i))\n",
    "\t\tnames += [('AQI(t-%d)' % (i)) for j in range(n_vars)]\n",
    "\t# forecast sequence (t, t+1, ... t+n)\n",
    "\tfor i in range(1, n_out):\n",
    "\t\tcols.append(df.shift(-i))\n",
    "\t\tnames += [('AQI(t+%d)' % (i)) for j in range(n_vars)]\n",
    "\t# put it all together\n",
    "\tagg = concat(cols, axis=1)\n",
    "\tagg.columns = names\n",
    "\treturn agg\n"
   ]
  },
  {
   "cell_type": "code",
   "execution_count": 8,
   "metadata": {},
   "outputs": [
    {
     "name": "stdout",
     "output_type": "stream",
     "text": [
      "       AQI(t-4)  AQI(t-3)  AQI(t-2)  AQI(t-1)  AQI(t+1)  AQI(t+2)  AQI(t+3)  \\\n",
      "0           NaN       NaN       NaN       NaN     333.0     333.0     333.0   \n",
      "1           NaN       NaN       NaN     333.0     333.0     333.0     333.0   \n",
      "2           NaN       NaN     333.0     333.0     333.0     333.0     333.0   \n",
      "3           NaN     333.0     333.0     333.0     333.0     333.0     333.0   \n",
      "4         333.0     333.0     333.0     333.0     333.0     333.0     333.0   \n",
      "...         ...       ...       ...       ...       ...       ...       ...   \n",
      "48187     134.0     130.0     120.0     115.0      88.0      89.0      91.0   \n",
      "48188     130.0     120.0     115.0      90.0      89.0      91.0      92.0   \n",
      "48189     120.0     115.0      90.0      88.0      91.0      92.0       NaN   \n",
      "48190     115.0      90.0      88.0      89.0      92.0       NaN       NaN   \n",
      "48191      90.0      88.0      89.0      91.0       NaN       NaN       NaN   \n",
      "\n",
      "       AQI(t+4)  AQI(t+5)  \n",
      "0         333.0     333.0  \n",
      "1         333.0     333.0  \n",
      "2         333.0     333.0  \n",
      "3         333.0     333.0  \n",
      "4         333.0     333.0  \n",
      "...         ...       ...  \n",
      "48187      92.0       NaN  \n",
      "48188       NaN       NaN  \n",
      "48189       NaN       NaN  \n",
      "48190       NaN       NaN  \n",
      "48191       NaN       NaN  \n",
      "\n",
      "[48192 rows x 9 columns]\n"
     ]
    }
   ],
   "source": [
    "df1= series_to_supervised(aqi_list, 4, 6)\n",
    "print(df1)"
   ]
  },
  {
   "cell_type": "code",
   "execution_count": 9,
   "metadata": {},
   "outputs": [
    {
     "name": "stdout",
     "output_type": "stream",
     "text": [
      "      AQI(t-4)  AQI(t-3)  AQI(t-2)  AQI(t-1)  AQI(t+1)  AQI(t+2)  AQI(t+3)  \\\n",
      "0          NaN       NaN       NaN       NaN      87.0      77.0      69.0   \n",
      "1          NaN       NaN       NaN      90.0      77.0      69.0      65.0   \n",
      "2          NaN       NaN      90.0      87.0      69.0      65.0      56.0   \n",
      "3          NaN      90.0      87.0      77.0      65.0      56.0      44.0   \n",
      "4         90.0      87.0      77.0      69.0      56.0      44.0      36.0   \n",
      "...        ...       ...       ...       ...       ...       ...       ...   \n",
      "1689     104.0     106.0     108.0     113.0     111.0     109.0     107.0   \n",
      "1690     106.0     108.0     113.0     116.0     109.0     107.0     102.0   \n",
      "1691     108.0     113.0     116.0     111.0     107.0     102.0       NaN   \n",
      "1692     113.0     116.0     111.0     109.0     102.0       NaN       NaN   \n",
      "1693     116.0     111.0     109.0     107.0       NaN       NaN       NaN   \n",
      "\n",
      "      AQI(t+4)  AQI(t+5)  \n",
      "0         65.0      56.0  \n",
      "1         56.0      44.0  \n",
      "2         44.0      36.0  \n",
      "3         36.0      32.0  \n",
      "4         32.0      34.0  \n",
      "...        ...       ...  \n",
      "1689     102.0       NaN  \n",
      "1690       NaN       NaN  \n",
      "1691       NaN       NaN  \n",
      "1692       NaN       NaN  \n",
      "1693       NaN       NaN  \n",
      "\n",
      "[1694 rows x 9 columns]\n"
     ]
    }
   ],
   "source": [
    "df1_test= series_to_supervised(aqi_list_test, 4, 6)\n",
    "print(df1_test)"
   ]
  },
  {
   "cell_type": "code",
   "execution_count": 10,
   "metadata": {},
   "outputs": [
    {
     "name": "stdout",
     "output_type": "stream",
     "text": [
      "                  Datetime   PM2.5    NO2    NH3    CO     O3    AQI  \\\n",
      "0      2015-01-01 01:00:00  428.30  47.97   6.36  0.92   7.65  333.0   \n",
      "1      2015-01-01 02:00:00  428.30  12.31   4.93  0.77  10.96  333.0   \n",
      "2      2015-01-01 03:00:00  428.30  13.72   3.92  1.06  12.14  333.0   \n",
      "3      2015-01-01 04:00:00  428.30  14.45   4.54  1.54  11.95  333.0   \n",
      "4      2015-01-01 05:00:00  428.30  20.16   4.85  1.03  11.64  333.0   \n",
      "...                    ...     ...    ...    ...   ...    ...    ...   \n",
      "48187  2020-06-30 20:00:00   23.81  11.13  32.97  1.10  42.74   90.0   \n",
      "48188  2020-06-30 21:00:00   24.84  11.30  33.20  1.11  45.39   88.0   \n",
      "48189  2020-06-30 22:00:00   23.84  11.05  33.06  0.99  47.36   89.0   \n",
      "48190  2020-06-30 23:00:00   22.60  11.15  33.45  1.01  50.78   91.0   \n",
      "48191  2020-07-01 00:00:00   15.95  10.72  33.52  1.02  48.37   92.0   \n",
      "\n",
      "       AQI(t-4)  AQI(t-3)  AQI(t-2)  AQI(t-1)  AQI(t+1)  AQI(t+2)  AQI(t+3)  \\\n",
      "0           NaN       NaN       NaN       NaN     333.0     333.0     333.0   \n",
      "1           NaN       NaN       NaN     333.0     333.0     333.0     333.0   \n",
      "2           NaN       NaN     333.0     333.0     333.0     333.0     333.0   \n",
      "3           NaN     333.0     333.0     333.0     333.0     333.0     333.0   \n",
      "4         333.0     333.0     333.0     333.0     333.0     333.0     333.0   \n",
      "...         ...       ...       ...       ...       ...       ...       ...   \n",
      "48187     134.0     130.0     120.0     115.0      88.0      89.0      91.0   \n",
      "48188     130.0     120.0     115.0      90.0      89.0      91.0      92.0   \n",
      "48189     120.0     115.0      90.0      88.0      91.0      92.0       NaN   \n",
      "48190     115.0      90.0      88.0      89.0      92.0       NaN       NaN   \n",
      "48191      90.0      88.0      89.0      91.0       NaN       NaN       NaN   \n",
      "\n",
      "       AQI(t+4)  AQI(t+5)  \n",
      "0         333.0     333.0  \n",
      "1         333.0     333.0  \n",
      "2         333.0     333.0  \n",
      "3         333.0     333.0  \n",
      "4         333.0     333.0  \n",
      "...         ...       ...  \n",
      "48187      92.0       NaN  \n",
      "48188       NaN       NaN  \n",
      "48189       NaN       NaN  \n",
      "48190       NaN       NaN  \n",
      "48191       NaN       NaN  \n",
      "\n",
      "[48192 rows x 16 columns]\n"
     ]
    }
   ],
   "source": [
    "df2 = pd.concat([df.reset_index(drop=True),df1.reset_index(drop=True)], axis=1)\n",
    "print(df2)"
   ]
  },
  {
   "cell_type": "code",
   "execution_count": 11,
   "metadata": {},
   "outputs": [
    {
     "name": "stdout",
     "output_type": "stream",
     "text": [
      "                 Datetime  PM2.5    NO2     NH3    CO     O3    AQI  AQI(t-4)  \\\n",
      "0     2021-01-17 10:00:00  45.31  11.52  133.01  1.37   3.04   90.0       NaN   \n",
      "1     2021-01-17 11:00:00  44.60  11.52  133.01  1.37   7.21   87.0       NaN   \n",
      "2     2021-01-17 12:00:00  39.12  11.52  133.01  1.37  14.03   77.0       NaN   \n",
      "3     2021-01-17 13:00:00  35.20  11.52  133.01  1.37  20.43   69.0       NaN   \n",
      "4     2021-01-17 14:00:00  32.67  11.52  133.01  1.37  21.31   65.0      90.0   \n",
      "...                   ...    ...    ...     ...   ...    ...    ...       ...   \n",
      "1689  2021-03-29 08:00:00  66.87   7.95   58.00  9.85  28.78  116.0     104.0   \n",
      "1690  2021-03-29 09:00:00  61.34   6.60   94.02  9.81  25.64  111.0     106.0   \n",
      "1691  2021-03-29 10:00:00  59.09   7.05   32.10  9.64  23.94  109.0     108.0   \n",
      "1692  2021-03-29 11:00:00  57.06  11.19  137.40  9.28  19.09  107.0     113.0   \n",
      "1693  2021-03-29 12:00:00  52.85  16.52  153.18  9.35  20.81  102.0     116.0   \n",
      "\n",
      "      AQI(t-3)  AQI(t-2)  AQI(t-1)  AQI(t+1)  AQI(t+2)  AQI(t+3)  AQI(t+4)  \\\n",
      "0          NaN       NaN       NaN      87.0      77.0      69.0      65.0   \n",
      "1          NaN       NaN      90.0      77.0      69.0      65.0      56.0   \n",
      "2          NaN      90.0      87.0      69.0      65.0      56.0      44.0   \n",
      "3         90.0      87.0      77.0      65.0      56.0      44.0      36.0   \n",
      "4         87.0      77.0      69.0      56.0      44.0      36.0      32.0   \n",
      "...        ...       ...       ...       ...       ...       ...       ...   \n",
      "1689     106.0     108.0     113.0     111.0     109.0     107.0     102.0   \n",
      "1690     108.0     113.0     116.0     109.0     107.0     102.0       NaN   \n",
      "1691     113.0     116.0     111.0     107.0     102.0       NaN       NaN   \n",
      "1692     116.0     111.0     109.0     102.0       NaN       NaN       NaN   \n",
      "1693     111.0     109.0     107.0       NaN       NaN       NaN       NaN   \n",
      "\n",
      "      AQI(t+5)  \n",
      "0         56.0  \n",
      "1         44.0  \n",
      "2         36.0  \n",
      "3         32.0  \n",
      "4         34.0  \n",
      "...        ...  \n",
      "1689       NaN  \n",
      "1690       NaN  \n",
      "1691       NaN  \n",
      "1692       NaN  \n",
      "1693       NaN  \n",
      "\n",
      "[1694 rows x 16 columns]\n"
     ]
    }
   ],
   "source": [
    "df2_test = pd.concat([df_test.reset_index(drop=True),df1_test.reset_index(drop=True)], axis=1)\n",
    "print(df2_test)"
   ]
  },
  {
   "cell_type": "code",
   "execution_count": 12,
   "metadata": {},
   "outputs": [
    {
     "name": "stdout",
     "output_type": "stream",
     "text": [
      "[[116.0, 111.0, 109.0, 107.0, 102.0]]\n"
     ]
    }
   ],
   "source": [
    "actual_values=[aqi_list_test[-5:]]\n",
    "print(actual_values)"
   ]
  },
  {
   "cell_type": "code",
   "execution_count": 13,
   "metadata": {},
   "outputs": [],
   "source": [
    "dropnan=True\n",
    "if dropnan:\n",
    "\tdf2.dropna(inplace=True)"
   ]
  },
  {
   "cell_type": "code",
   "execution_count": 14,
   "metadata": {},
   "outputs": [],
   "source": [
    "df2_test['CO'] = df2_test['CO'].fillna(0)\n",
    "df2_test['NO2'] = df2_test['NO2'].fillna(0)\n",
    "df2_test['NH3'] = df2_test['NH3'].fillna(0)\n",
    "dropnan=True\n",
    "if dropnan:\n",
    "\tdf2_test.dropna(inplace=True)"
   ]
  },
  {
   "cell_type": "code",
   "execution_count": 15,
   "metadata": {},
   "outputs": [],
   "source": [
    "X_train=np.array(df2[['PM2.5','NO2','NH3','CO','O3','AQI','AQI(t-4)','AQI(t-3)','AQI(t-2)','AQI(t-1)']])\n",
    "y_train=np.array(df2[['AQI(t+1)','AQI(t+2)','AQI(t+3)','AQI(t+4)','AQI(t+5)']])\n",
    "\n",
    "X_test=np.array(df2_test[['PM2.5','NO2','NH3','CO','O3','AQI','AQI(t-4)','AQI(t-3)','AQI(t-2)','AQI(t-1)']])\n",
    "y_test=np.array(df2_test[['AQI(t+1)','AQI(t+2)','AQI(t+3)','AQI(t+4)','AQI(t+5)']])"
   ]
  },
  {
   "cell_type": "code",
   "execution_count": 16,
   "metadata": {},
   "outputs": [],
   "source": [
    "from sklearn.multioutput import MultiOutputRegressor\n",
    "from sklearn.metrics import mean_squared_error\n",
    "from math import sqrt\n",
    "rows,cols=X_test.shape\n",
    "\n",
    "from sklearn.ensemble import GradientBoostingRegressor\n",
    "\n",
    "lin_reg=MultiOutputRegressor(GradientBoostingRegressor(n_estimators=21,max_depth=34)).fit(X_train, y_train)\n",
    "y_pred=lin_reg.predict(X_test)\n",
    "pred=[y_pred[rows-1]]\n",
    "rmse = sqrt(mean_squared_error(pred,actual_values))\n"
   ]
  },
  {
   "cell_type": "code",
   "execution_count": 2,
   "metadata": {},
   "outputs": [
    {
     "name": "stdout",
     "output_type": "stream",
     "text": [
      "Forecasted AQI:\n",
      "[array([111.17109378, 116.43804059, 123.26343922, 112.44771263,\n",
      "       113.89640324])]\n"
     ]
    }
   ],
   "source": [
    "print(\"Forecasted AQI:\")\n",
    "print(pred)"
   ]
  },
  {
   "cell_type": "code",
   "execution_count": 3,
   "metadata": {},
   "outputs": [
    {
     "name": "stdout",
     "output_type": "stream",
     "text": [
      "RMSE:\n",
      "4.5681824168908545\n"
     ]
    }
   ],
   "source": [
    "print(\"RMSE:\")\n",
    "print(rmse)"
   ]
  },
  {
   "cell_type": "code",
   "execution_count": null,
   "metadata": {},
   "outputs": [],
   "source": []
  },
  {
   "cell_type": "code",
   "execution_count": null,
   "metadata": {},
   "outputs": [],
   "source": []
  },
  {
   "cell_type": "code",
   "execution_count": null,
   "metadata": {},
   "outputs": [],
   "source": []
  },
  {
   "cell_type": "code",
   "execution_count": null,
   "metadata": {},
   "outputs": [],
   "source": []
  },
  {
   "cell_type": "code",
   "execution_count": null,
   "metadata": {},
   "outputs": [],
   "source": []
  },
  {
   "cell_type": "code",
   "execution_count": null,
   "metadata": {},
   "outputs": [],
   "source": []
  },
  {
   "cell_type": "code",
   "execution_count": null,
   "metadata": {},
   "outputs": [],
   "source": []
  },
  {
   "cell_type": "code",
   "execution_count": null,
   "metadata": {},
   "outputs": [],
   "source": []
  },
  {
   "cell_type": "code",
   "execution_count": null,
   "metadata": {},
   "outputs": [],
   "source": []
  },
  {
   "cell_type": "code",
   "execution_count": null,
   "metadata": {},
   "outputs": [],
   "source": []
  },
  {
   "cell_type": "code",
   "execution_count": 31,
   "metadata": {},
   "outputs": [],
   "source": [
    "#PM2.5 removed\n",
    "\n",
    "X_train=np.array(df2[['NO2','NH3','CO','O3','AQI','AQI(t-4)','AQI(t-3)','AQI(t-2)','AQI(t-1)']])\n",
    "y_train=np.array(df2[['AQI(t+1)','AQI(t+2)','AQI(t+3)','AQI(t+4)','AQI(t+5)']])\n",
    "\n",
    "X_test=np.array(df2_test[['NO2','NH3','CO','O3','AQI','AQI(t-4)','AQI(t-3)','AQI(t-2)','AQI(t-1)']])\n",
    "y_test=np.array(df2_test[['AQI(t+1)','AQI(t+2)','AQI(t+3)','AQI(t+4)','AQI(t+5)']])\n"
   ]
  },
  {
   "cell_type": "code",
   "execution_count": 32,
   "metadata": {},
   "outputs": [
    {
     "name": "stdout",
     "output_type": "stream",
     "text": [
      "16.586493563802065\n"
     ]
    }
   ],
   "source": [
    "from sklearn.multioutput import MultiOutputRegressor\n",
    "from sklearn.metrics import mean_squared_error\n",
    "from math import sqrt\n",
    "rows,cols=X_test.shape\n",
    "\n",
    "from sklearn.ensemble import GradientBoostingRegressor\n",
    "\n",
    "lin_reg=MultiOutputRegressor(GradientBoostingRegressor(n_estimators=21,max_depth=34)).fit(X_train, y_train)\n",
    "y_pred=lin_reg.predict(X_test)\n",
    "pred=[y_pred[rows-1]]\n",
    "rmse = sqrt(mean_squared_error(pred,actual_values))\n",
    "print(rmse)\n"
   ]
  },
  {
   "cell_type": "code",
   "execution_count": 10,
   "metadata": {},
   "outputs": [],
   "source": [
    "#NO2 removed\n",
    "\n",
    "X_train=np.array(df2[['PM2.5','NH3','CO','O3','AQI','AQI(t-4)','AQI(t-3)','AQI(t-2)','AQI(t-1)']])\n",
    "y_train=np.array(df2[['AQI(t+1)','AQI(t+2)','AQI(t+3)','AQI(t+4)','AQI(t+5)']])\n",
    "\n",
    "X_test=np.array(df2_test[['PM2.5','NH3','CO','O3','AQI','AQI(t-4)','AQI(t-3)','AQI(t-2)','AQI(t-1)']])\n",
    "y_test=np.array(df2_test[['AQI(t+1)','AQI(t+2)','AQI(t+3)','AQI(t+4)','AQI(t+5)']])\n",
    "\n"
   ]
  },
  {
   "cell_type": "code",
   "execution_count": 11,
   "metadata": {},
   "outputs": [
    {
     "name": "stdout",
     "output_type": "stream",
     "text": [
      "6.452100112445223\n"
     ]
    }
   ],
   "source": [
    "from sklearn.multioutput import MultiOutputRegressor\n",
    "from sklearn.metrics import mean_squared_error\n",
    "from math import sqrt\n",
    "rows,cols=X_test.shape\n",
    "\n",
    "from sklearn.ensemble import GradientBoostingRegressor\n",
    "\n",
    "lin_reg=MultiOutputRegressor(GradientBoostingRegressor(n_estimators=21,max_depth=34)).fit(X_train, y_train)\n",
    "y_pred=lin_reg.predict(X_test)\n",
    "pred=[y_pred[rows-1]]\n",
    "rmse = sqrt(mean_squared_error(pred,actual_values))\n",
    "print(rmse)\n"
   ]
  },
  {
   "cell_type": "code",
   "execution_count": 17,
   "metadata": {},
   "outputs": [],
   "source": [
    "#NH3 removed\n",
    "\n",
    "X_train=np.array(df2[['PM2.5','NO2','CO','O3','AQI','AQI(t-4)','AQI(t-3)','AQI(t-2)','AQI(t-1)']])\n",
    "y_train=np.array(df2[['AQI(t+1)','AQI(t+2)','AQI(t+3)','AQI(t+4)','AQI(t+5)']])\n",
    "\n",
    "X_test=np.array(df2_test[['PM2.5','NO2','CO','O3','AQI','AQI(t-4)','AQI(t-3)','AQI(t-2)','AQI(t-1)']])\n",
    "y_test=np.array(df2_test[['AQI(t+1)','AQI(t+2)','AQI(t+3)','AQI(t+4)','AQI(t+5)']])\n",
    "\n"
   ]
  },
  {
   "cell_type": "code",
   "execution_count": 18,
   "metadata": {},
   "outputs": [
    {
     "name": "stdout",
     "output_type": "stream",
     "text": [
      "6.3254839778395215\n"
     ]
    }
   ],
   "source": [
    "from sklearn.multioutput import MultiOutputRegressor\n",
    "from sklearn.metrics import mean_squared_error\n",
    "from math import sqrt\n",
    "rows,cols=X_test.shape\n",
    "\n",
    "from sklearn.ensemble import GradientBoostingRegressor\n",
    "\n",
    "lin_reg=MultiOutputRegressor(GradientBoostingRegressor(n_estimators=21,max_depth=34)).fit(X_train, y_train)\n",
    "y_pred=lin_reg.predict(X_test)\n",
    "pred=[y_pred[rows-1]]\n",
    "rmse = sqrt(mean_squared_error(pred,actual_values))\n",
    "print(rmse)\n"
   ]
  },
  {
   "cell_type": "code",
   "execution_count": 24,
   "metadata": {},
   "outputs": [],
   "source": [
    "#CO removed\n",
    "\n",
    "X_train=np.array(df2[['PM2.5','NO2','NH3','O3','AQI','AQI(t-4)','AQI(t-3)','AQI(t-2)','AQI(t-1)']])\n",
    "y_train=np.array(df2[['AQI(t+1)','AQI(t+2)','AQI(t+3)','AQI(t+4)','AQI(t+5)']])\n",
    "\n",
    "X_test=np.array(df2_test[['PM2.5','NO2','NH3','O3','AQI','AQI(t-4)','AQI(t-3)','AQI(t-2)','AQI(t-1)']])\n",
    "y_test=np.array(df2_test[['AQI(t+1)','AQI(t+2)','AQI(t+3)','AQI(t+4)','AQI(t+5)']])\n",
    "\n"
   ]
  },
  {
   "cell_type": "code",
   "execution_count": 25,
   "metadata": {},
   "outputs": [
    {
     "name": "stdout",
     "output_type": "stream",
     "text": [
      "7.7583073383360475\n"
     ]
    }
   ],
   "source": [
    "from sklearn.multioutput import MultiOutputRegressor\n",
    "from sklearn.metrics import mean_squared_error\n",
    "from math import sqrt\n",
    "rows,cols=X_test.shape\n",
    "\n",
    "from sklearn.ensemble import GradientBoostingRegressor\n",
    "\n",
    "lin_reg=MultiOutputRegressor(GradientBoostingRegressor(n_estimators=21,max_depth=34)).fit(X_train, y_train)\n",
    "y_pred=lin_reg.predict(X_test)\n",
    "pred=[y_pred[rows-1]]\n",
    "rmse = sqrt(mean_squared_error(pred,actual_values))\n",
    "print(rmse)\n"
   ]
  },
  {
   "cell_type": "code",
   "execution_count": 52,
   "metadata": {},
   "outputs": [],
   "source": [
    "#O3 removed\n",
    "\n",
    "X_train=np.array(df2[['PM2.5','NO2','NH3','CO','AQI','AQI(t-4)','AQI(t-3)','AQI(t-2)','AQI(t-1)']])\n",
    "y_train=np.array(df2[['AQI(t+1)','AQI(t+2)','AQI(t+3)','AQI(t+4)','AQI(t+5)']])\n",
    "\n",
    "X_test=np.array(df2_test[['PM2.5','NO2','NH3','CO','AQI','AQI(t-4)','AQI(t-3)','AQI(t-2)','AQI(t-1)']])\n",
    "y_test=np.array(df2_test[['AQI(t+1)','AQI(t+2)','AQI(t+3)','AQI(t+4)','AQI(t+5)']])\n",
    "\n"
   ]
  },
  {
   "cell_type": "code",
   "execution_count": 53,
   "metadata": {},
   "outputs": [
    {
     "name": "stdout",
     "output_type": "stream",
     "text": [
      "5.052495691627039\n"
     ]
    }
   ],
   "source": [
    "from sklearn.multioutput import MultiOutputRegressor\n",
    "from sklearn.metrics import mean_squared_error\n",
    "from math import sqrt\n",
    "rows,cols=X_test.shape\n",
    "\n",
    "from sklearn.ensemble import GradientBoostingRegressor\n",
    "\n",
    "lin_reg=MultiOutputRegressor(GradientBoostingRegressor(n_estimators=21,max_depth=34)).fit(X_train, y_train)\n",
    "y_pred=lin_reg.predict(X_test)\n",
    "pred=[y_pred[rows-1]]\n",
    "rmse = sqrt(mean_squared_error(pred,actual_values))\n",
    "print(rmse)\n"
   ]
  },
  {
   "cell_type": "code",
   "execution_count": 62,
   "metadata": {},
   "outputs": [],
   "source": [
    "#AQI(t-4) removed\n",
    "\n",
    "X_train=np.array(df2[['PM2.5','NO2','NH3','CO','O3','AQI','AQI(t-3)','AQI(t-2)','AQI(t-1)']])\n",
    "y_train=np.array(df2[['AQI(t+1)','AQI(t+2)','AQI(t+3)','AQI(t+4)','AQI(t+5)']])\n",
    "\n",
    "X_test=np.array(df2_test[['PM2.5','NO2','NH3','CO','O3','AQI','AQI(t-3)','AQI(t-2)','AQI(t-1)']])\n",
    "y_test=np.array(df2_test[['AQI(t+1)','AQI(t+2)','AQI(t+3)','AQI(t+4)','AQI(t+5)']])\n",
    "\n"
   ]
  },
  {
   "cell_type": "code",
   "execution_count": 63,
   "metadata": {},
   "outputs": [
    {
     "name": "stdout",
     "output_type": "stream",
     "text": [
      "7.795105436311941\n"
     ]
    }
   ],
   "source": [
    "from sklearn.multioutput import MultiOutputRegressor\n",
    "from sklearn.metrics import mean_squared_error\n",
    "from math import sqrt\n",
    "rows,cols=X_test.shape\n",
    "\n",
    "from sklearn.ensemble import GradientBoostingRegressor\n",
    "\n",
    "lin_reg=MultiOutputRegressor(GradientBoostingRegressor(n_estimators=21,max_depth=34)).fit(X_train, y_train)\n",
    "y_pred=lin_reg.predict(X_test)\n",
    "pred=[y_pred[rows-1]]\n",
    "rmse = sqrt(mean_squared_error(pred,actual_values))\n",
    "print(rmse)\n"
   ]
  },
  {
   "cell_type": "code",
   "execution_count": 64,
   "metadata": {},
   "outputs": [],
   "source": [
    "#AQI(t-3) removed\n",
    "X_train=np.array(df2[['PM2.5','NO2','NH3','CO','O3','AQI','AQI(t-2)','AQI(t-1)']])\n",
    "y_train=np.array(df2[['AQI(t+1)','AQI(t+2)','AQI(t+3)','AQI(t+4)','AQI(t+5)']])\n",
    "\n",
    "X_test=np.array(df2_test[['PM2.5','NO2','NH3','CO','O3','AQI','AQI(t-2)','AQI(t-1)']])\n",
    "y_test=np.array(df2_test[['AQI(t+1)','AQI(t+2)','AQI(t+3)','AQI(t+4)','AQI(t+5)']])\n",
    "\n"
   ]
  },
  {
   "cell_type": "code",
   "execution_count": 65,
   "metadata": {},
   "outputs": [
    {
     "name": "stdout",
     "output_type": "stream",
     "text": [
      "11.897223525438129\n"
     ]
    }
   ],
   "source": [
    "from sklearn.multioutput import MultiOutputRegressor\n",
    "from sklearn.metrics import mean_squared_error\n",
    "from math import sqrt\n",
    "rows,cols=X_test.shape\n",
    "\n",
    "from sklearn.ensemble import GradientBoostingRegressor\n",
    "\n",
    "lin_reg=MultiOutputRegressor(GradientBoostingRegressor(n_estimators=21,max_depth=34)).fit(X_train, y_train)\n",
    "y_pred=lin_reg.predict(X_test)\n",
    "pred=[y_pred[rows-1]]\n",
    "rmse = sqrt(mean_squared_error(pred,actual_values))\n",
    "print(rmse)\n"
   ]
  },
  {
   "cell_type": "code",
   "execution_count": 66,
   "metadata": {},
   "outputs": [],
   "source": [
    "#AQI(t-2) removed\n",
    "\n",
    "X_train=np.array(df2[['PM2.5','NO2','NH3','CO','O3','AQI','AQI(t-1)']])\n",
    "y_train=np.array(df2[['AQI(t+1)','AQI(t+2)','AQI(t+3)','AQI(t+4)','AQI(t+5)']])\n",
    "\n",
    "X_test=np.array(df2_test[['PM2.5','NO2','NH3','CO','O3','AQI','AQI(t-1)']])\n",
    "y_test=np.array(df2_test[['AQI(t+1)','AQI(t+2)','AQI(t+3)','AQI(t+4)','AQI(t+5)']])\n",
    "\n"
   ]
  },
  {
   "cell_type": "code",
   "execution_count": 67,
   "metadata": {},
   "outputs": [
    {
     "name": "stdout",
     "output_type": "stream",
     "text": [
      "12.15616352963059\n"
     ]
    }
   ],
   "source": [
    "from sklearn.multioutput import MultiOutputRegressor\n",
    "from sklearn.metrics import mean_squared_error\n",
    "from math import sqrt\n",
    "rows,cols=X_test.shape\n",
    "\n",
    "from sklearn.ensemble import GradientBoostingRegressor\n",
    "\n",
    "lin_reg=MultiOutputRegressor(GradientBoostingRegressor(n_estimators=21,max_depth=34)).fit(X_train, y_train)\n",
    "y_pred=lin_reg.predict(X_test)\n",
    "pred=[y_pred[rows-1]]\n",
    "rmse = sqrt(mean_squared_error(pred,actual_values))\n",
    "print(rmse)\n"
   ]
  },
  {
   "cell_type": "code",
   "execution_count": 70,
   "metadata": {},
   "outputs": [],
   "source": [
    "#AQI(t-1) removed\n",
    "\n",
    "X_train=np.array(df2[['PM2.5','NO2','NH3','CO','O3','AQI']])\n",
    "y_train=np.array(df2[['AQI(t+1)','AQI(t+2)','AQI(t+3)','AQI(t+4)','AQI(t+5)']])\n",
    "\n",
    "X_test=np.array(df2_test[['PM2.5','NO2','NH3','CO','O3','AQI']])\n",
    "y_test=np.array(df2_test[['AQI(t+1)','AQI(t+2)','AQI(t+3)','AQI(t+4)','AQI(t+5)']])\n",
    "\n"
   ]
  },
  {
   "cell_type": "code",
   "execution_count": 71,
   "metadata": {},
   "outputs": [
    {
     "name": "stdout",
     "output_type": "stream",
     "text": [
      "11.647977270761999\n"
     ]
    }
   ],
   "source": [
    "from sklearn.multioutput import MultiOutputRegressor\n",
    "from sklearn.metrics import mean_squared_error\n",
    "from math import sqrt\n",
    "rows,cols=X_test.shape\n",
    "\n",
    "from sklearn.ensemble import GradientBoostingRegressor\n",
    "\n",
    "lin_reg=MultiOutputRegressor(GradientBoostingRegressor(n_estimators=21,max_depth=34)).fit(X_train, y_train)\n",
    "y_pred=lin_reg.predict(X_test)\n",
    "pred=[y_pred[rows-1]]\n",
    "rmse = sqrt(mean_squared_error(pred,actual_values))\n",
    "print(rmse)\n"
   ]
  },
  {
   "cell_type": "code",
   "execution_count": 74,
   "metadata": {},
   "outputs": [],
   "source": [
    "#AQI removed\n",
    "\n",
    "X_train=np.array(df2[['PM2.5','NO2','NH3','CO','O3']])\n",
    "y_train=np.array(df2[['AQI(t+1)','AQI(t+2)','AQI(t+3)','AQI(t+4)','AQI(t+5)']])\n",
    "\n",
    "X_test=np.array(df2_test[['PM2.5','NO2','NH3','CO','O3']])\n",
    "y_test=np.array(df2_test[['AQI(t+1)','AQI(t+2)','AQI(t+3)','AQI(t+4)','AQI(t+5)']])\n",
    "\n"
   ]
  },
  {
   "cell_type": "code",
   "execution_count": 75,
   "metadata": {},
   "outputs": [
    {
     "name": "stdout",
     "output_type": "stream",
     "text": [
      "88.10938079568194\n"
     ]
    }
   ],
   "source": [
    "from sklearn.multioutput import MultiOutputRegressor\n",
    "from sklearn.metrics import mean_squared_error\n",
    "from math import sqrt\n",
    "rows,cols=X_test.shape\n",
    "\n",
    "from sklearn.ensemble import GradientBoostingRegressor\n",
    "\n",
    "lin_reg=MultiOutputRegressor(GradientBoostingRegressor(n_estimators=21,max_depth=34)).fit(X_train, y_train)\n",
    "y_pred=lin_reg.predict(X_test)\n",
    "pred=[y_pred[rows-1]]\n",
    "rmse = sqrt(mean_squared_error(pred,actual_values))\n",
    "print(rmse)\n"
   ]
  }
 ],
 "metadata": {
  "kernelspec": {
   "display_name": "Python 3",
   "language": "python",
   "name": "python3"
  },
  "language_info": {
   "codemirror_mode": {
    "name": "ipython",
    "version": 3
   },
   "file_extension": ".py",
   "mimetype": "text/x-python",
   "name": "python",
   "nbconvert_exporter": "python",
   "pygments_lexer": "ipython3",
   "version": "3.7.3"
  }
 },
 "nbformat": 4,
 "nbformat_minor": 4
}
